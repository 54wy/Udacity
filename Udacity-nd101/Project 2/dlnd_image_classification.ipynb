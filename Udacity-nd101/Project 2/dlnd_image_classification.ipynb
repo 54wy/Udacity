{
 "cells": [
  {
   "cell_type": "markdown",
   "metadata": {
    "collapsed": true,
    "deletable": true,
    "editable": true
   },
   "source": [
    "# Image Classification\n",
    "In this project, you'll classify images from the [CIFAR-10 dataset](https://www.cs.toronto.edu/~kriz/cifar.html).  The dataset consists of airplanes, dogs, cats, and other objects. You'll preprocess the images, then train a convolutional neural network on all the samples. The images need to be normalized and the labels need to be one-hot encoded.  You'll get to apply what you learned and build a convolutional, max pooling, dropout, and fully connected layers.  At the end, you'll get to see your neural network's predictions on the sample images.\n",
    "## Get the Data\n",
    "Run the following cell to download the [CIFAR-10 dataset for python](https://www.cs.toronto.edu/~kriz/cifar-10-python.tar.gz)."
   ]
  },
  {
   "cell_type": "code",
   "execution_count": 3,
   "metadata": {
    "collapsed": false,
    "deletable": true,
    "editable": true
   },
   "outputs": [
    {
     "name": "stdout",
     "output_type": "stream",
     "text": [
      "All files found!\n"
     ]
    }
   ],
   "source": [
    "\"\"\"\n",
    "DON'T MODIFY ANYTHING IN THIS CELL THAT IS BELOW THIS LINE\n",
    "\"\"\"\n",
    "from urllib.request import urlretrieve\n",
    "from os.path import isfile, isdir\n",
    "from tqdm import tqdm\n",
    "import problem_unittests as tests\n",
    "import tarfile\n",
    "\n",
    "cifar10_dataset_folder_path = 'cifar-10-batches-py'\n",
    "\n",
    "class DLProgress(tqdm):\n",
    "    last_block = 0\n",
    "\n",
    "    def hook(self, block_num=1, block_size=1, total_size=None):\n",
    "        self.total = total_size\n",
    "        self.update((block_num - self.last_block) * block_size)\n",
    "        self.last_block = block_num\n",
    "\n",
    "if not isfile('cifar-10-python.tar.gz'):\n",
    "    with DLProgress(unit='B', unit_scale=True, miniters=1, desc='CIFAR-10 Dataset') as pbar:\n",
    "        urlretrieve(\n",
    "            'https://www.cs.toronto.edu/~kriz/cifar-10-python.tar.gz',\n",
    "            'cifar-10-python.tar.gz',\n",
    "            pbar.hook)\n",
    "\n",
    "if not isdir(cifar10_dataset_folder_path):\n",
    "    with tarfile.open('cifar-10-python.tar.gz') as tar:\n",
    "        tar.extractall()\n",
    "        tar.close()\n",
    "\n",
    "\n",
    "tests.test_folder_path(cifar10_dataset_folder_path)"
   ]
  },
  {
   "cell_type": "markdown",
   "metadata": {
    "deletable": true,
    "editable": true
   },
   "source": [
    "## Explore the Data\n",
    "The dataset is broken into batches to prevent your machine from running out of memory.  The CIFAR-10 dataset consists of 5 batches, named `data_batch_1`, `data_batch_2`, etc.. Each batch contains the labels and images that are one of the following:\n",
    "* airplane\n",
    "* automobile\n",
    "* bird\n",
    "* cat\n",
    "* deer\n",
    "* dog\n",
    "* frog\n",
    "* horse\n",
    "* ship\n",
    "* truck\n",
    "\n",
    "Understanding a dataset is part of making predictions on the data.  Play around with the code cell below by changing the `batch_id` and `sample_id`. The `batch_id` is the id for a batch (1-5). The `sample_id` is the id for a image and label pair in the batch.\n",
    "\n",
    "Ask yourself \"What are all possible labels?\", \"What is the range of values for the image data?\", \"Are the labels in order or random?\".  Answers to questions like these will help you preprocess the data and end up with better predictions."
   ]
  },
  {
   "cell_type": "code",
   "execution_count": 4,
   "metadata": {
    "collapsed": false,
    "deletable": true,
    "editable": true
   },
   "outputs": [
    {
     "name": "stdout",
     "output_type": "stream",
     "text": [
      "\n",
      "Stats of batch 4:\n",
      "Samples: 10000\n",
      "Label Counts: {0: 1003, 1: 963, 2: 1041, 3: 976, 4: 1004, 5: 1021, 6: 1004, 7: 981, 8: 1024, 9: 983}\n",
      "First 20 Labels: [0, 6, 0, 2, 7, 2, 1, 2, 4, 1, 5, 6, 6, 3, 1, 3, 5, 5, 8, 1]\n",
      "\n",
      "Example of Image 9:\n",
      "Image - Min Value: 22 Max Value: 255\n",
      "Image - Shape: (32, 32, 3)\n",
      "Label - Label Id: 1 Name: automobile\n"
     ]
    },
    {
     "data": {
      "image/png": "[encoded data removed]",
      "text/plain": [
       "<matplotlib.figure.Figure at 0x222496dec88>"
      ]
     },
     "metadata": {
      "image/png": {
       "height": 250,
       "width": 253
      }
     },
     "output_type": "display_data"
    }
   ],
   "source": [
    "%matplotlib inline\n",
    "%config InlineBackend.figure_format = 'retina'\n",
    "\n",
    "import helper\n",
    "import numpy as np\n",
    "\n",
    "# Explore the dataset\n",
    "batch_id = 4\n",
    "sample_id = 9\n",
    "helper.display_stats(cifar10_dataset_folder_path, batch_id, sample_id)"
   ]
  },
  {
   "cell_type": "markdown",
   "metadata": {
    "deletable": true,
    "editable": true
   },
   "source": [
    "## Implement Preprocess Functions\n",
    "### Normalize\n",
    "In the cell below, implement the `normalize` function to take in image data, `x`, and return it as a normalized Numpy array. The values should be in the range of 0 to 1, inclusive.  The return object should be the same shape as `x`."
   ]
  },
  {
   "cell_type": "code",
   "execution_count": 5,
   "metadata": {
    "collapsed": false,
    "deletable": true,
    "editable": true
   },
   "outputs": [
    {
     "name": "stdout",
     "output_type": "stream",
     "text": [
      "Tests Passed\n"
     ]
    }
   ],
   "source": [
    "def normalize(x):\n",
    "    \"\"\"\n",
    "    Normalize a list of sample image data in the range of 0 to 1\n",
    "    : x: List of image data.  The image shape is (32, 32, 3)\n",
    "    : return: Numpy array of normalize data\n",
    "    \"\"\"\n",
    "    # TODO: Implement Function\n",
    "    return x / float(255)\n",
    "\n",
    "\n",
    "\"\"\"\n",
    "DON'T MODIFY ANYTHING IN THIS CELL THAT IS BELOW THIS LINE\n",
    "\"\"\"\n",
    "tests.test_normalize(normalize)"
   ]
  },
  {
   "cell_type": "markdown",
   "metadata": {
    "deletable": true,
    "editable": true
   },
   "source": [
    "### One-hot encode\n",
    "Just like the previous code cell, you'll be implementing a function for preprocessing.  This time, you'll implement the `one_hot_encode` function. The input, `x`, are a list of labels.  Implement the function to return the list of labels as One-Hot encoded Numpy array.  The possible values for labels are 0 to 9. The one-hot encoding function should return the same encoding for each value between each call to `one_hot_encode`.  Make sure to save the map of encodings outside the function.\n",
    "\n",
    "Hint: Don't reinvent the wheel."
   ]
  },
  {
   "cell_type": "code",
   "execution_count": 6,
   "metadata": {
    "collapsed": false,
    "deletable": true,
    "editable": true
   },
   "outputs": [
    {
     "name": "stdout",
     "output_type": "stream",
     "text": [
      "Tests Passed\n"
     ]
    }
   ],
   "source": [
    "def one_hot_encode(x):\n",
    "    \"\"\"\n",
    "    One hot encode a list of sample labels. Return a one-hot encoded vector for each label.\n",
    "    : x: List of sample Labels\n",
    "    : return: Numpy array of one-hot encoded labels\n",
    "    \"\"\"\n",
    "    # TODO: Implement Function\n",
    "    y = np.zeros([len(x), 10])\n",
    "    for i,j in enumerate(x):\n",
    "        y[i, j] = 1\n",
    "    return y\n",
    "\n",
    "\n",
    "\"\"\"\n",
    "DON'T MODIFY ANYTHING IN THIS CELL THAT IS BELOW THIS LINE\n",
    "\"\"\"\n",
    "tests.test_one_hot_encode(one_hot_encode)"
   ]
  },
  {
   "cell_type": "markdown",
   "metadata": {
    "deletable": true,
    "editable": true
   },
   "source": [
    "### Randomize Data\n",
    "As you saw from exploring the data above, the order of the samples are randomized.  It doesn't hurt to randomize it again, but you don't need to for this dataset."
   ]
  },
  {
   "cell_type": "markdown",
   "metadata": {
    "deletable": true,
    "editable": true
   },
   "source": [
    "## Preprocess all the data and save it\n",
    "Running the code cell below will preprocess all the CIFAR-10 data and save it to file. The code below also uses 10% of the training data for validation."
   ]
  },
  {
   "cell_type": "code",
   "execution_count": 7,
   "metadata": {
    "collapsed": false,
    "deletable": true,
    "editable": true
   },
   "outputs": [],
   "source": [
    "\"\"\"\n",
    "DON'T MODIFY ANYTHING IN THIS CELL\n",
    "\"\"\"\n",
    "# Preprocess Training, Validation, and Testing Data\n",
    "helper.preprocess_and_save_data(cifar10_dataset_folder_path, normalize, one_hot_encode)"
   ]
  },
  {
   "cell_type": "markdown",
   "metadata": {
    "deletable": true,
    "editable": true
   },
   "source": [
    "# Check Point\n",
    "This is your first checkpoint.  If you ever decide to come back to this notebook or have to restart the notebook, you can start from here.  The preprocessed data has been saved to disk."
   ]
  },
  {
   "cell_type": "code",
   "execution_count": 8,
   "metadata": {
    "collapsed": true,
    "deletable": true,
    "editable": true
   },
   "outputs": [],
   "source": [
    "\"\"\"\n",
    "DON'T MODIFY ANYTHING IN THIS CELL\n",
    "\"\"\"\n",
    "import pickle\n",
    "import problem_unittests as tests\n",
    "import helper\n",
    "\n",
    "# Load the Preprocessed Validation data\n",
    "valid_features, valid_labels = pickle.load(open('preprocess_validation.p', mode='rb'))"
   ]
  },
  {
   "cell_type": "markdown",
   "metadata": {
    "deletable": true,
    "editable": true
   },
   "source": [
    "## Build the network\n",
    "For the neural network, you'll build each layer into a function.  Most of the code you've seen has been outside of functions. To test your code more thoroughly, we require that you put each layer in a function.  This allows us to give you better feedback and test for simple mistakes using our unittests before you submit your project.\n",
    "\n",
    "If you're finding it hard to dedicate enough time for this course a week, we've provided a small shortcut to this part of the project. In the next couple of problems, you'll have the option to use [TensorFlow Layers](https://www.tensorflow.org/api_docs/python/tf/layers) or [TensorFlow Layers (contrib)](https://www.tensorflow.org/api_guides/python/contrib.layers) to build each layer, except \"Convolutional & Max Pooling\" layer.  TF Layers is similar to Keras's and TFLearn's abstraction to layers, so it's easy to pickup.\n",
    "\n",
    "If you would like to get the most of this course, try to solve all the problems without TF Layers.  Let's begin!\n",
    "### Input\n",
    "The neural network needs to read the image data, one-hot encoded labels, and dropout keep probability. Implement the following functions\n",
    "* Implement `neural_net_image_input`\n",
    " * Return a [TF Placeholder](https://www.tensorflow.org/api_docs/python/tf/placeholder)\n",
    " * Set the shape using `image_shape` with batch size set to `None`.\n",
    " * Name the TensorFlow placeholder \"x\" using the TensorFlow `name` parameter in the [TF Placeholder](https://www.tensorflow.org/api_docs/python/tf/placeholder).\n",
    "* Implement `neural_net_label_input`\n",
    " * Return a [TF Placeholder](https://www.tensorflow.org/api_docs/python/tf/placeholder)\n",
    " * Set the shape using `n_classes` with batch size set to `None`.\n",
    " * Name the TensorFlow placeholder \"y\" using the TensorFlow `name` parameter in the [TF Placeholder](https://www.tensorflow.org/api_docs/python/tf/placeholder).\n",
    "* Implement `neural_net_keep_prob_input`\n",
    " * Return a [TF Placeholder](https://www.tensorflow.org/api_docs/python/tf/placeholder) for dropout keep probability.\n",
    " * Name the TensorFlow placeholder \"keep_prob\" using the TensorFlow `name` parameter in the [TF Placeholder](https://www.tensorflow.org/api_docs/python/tf/placeholder).\n",
    "\n",
    "These names will be used at the end of the project to load your saved model.\n",
    "\n",
    "Note: `None` for shapes in TensorFlow allow for a dynamic size."
   ]
  },
  {
   "cell_type": "code",
   "execution_count": 9,
   "metadata": {
    "collapsed": false,
    "deletable": true,
    "editable": true
   },
   "outputs": [
    {
     "name": "stdout",
     "output_type": "stream",
     "text": [
      "Image Input Tests Passed.\n",
      "Label Input Tests Passed.\n",
      "Keep Prob Tests Passed.\n"
     ]
    }
   ],
   "source": [
    "import tensorflow as tf\n",
    "\n",
    "def neural_net_image_input(image_shape):\n",
    "    \"\"\"\n",
    "    Return a Tensor for a bach of image input\n",
    "    : image_shape: Shape of the images\n",
    "    : return: Tensor for image input.\n",
    "    \"\"\"\n",
    "    # TODO: Implement Function\n",
    "    return  tf.placeholder(tf.float32, shape=[None, image_shape[0],  image_shape[1],  image_shape[2]], name='x')\n",
    "\n",
    "\n",
    "def neural_net_label_input(n_classes):\n",
    "    \"\"\"\n",
    "    Return a Tensor for a batch of label input\n",
    "    : n_classes: Number of classes\n",
    "    : return: Tensor for label input.\n",
    "    \"\"\"\n",
    "    # TODO: Implement Function\n",
    "    return tf.placeholder(tf.float32, shape=[None, n_classes], name='y')\n",
    "\n",
    "\n",
    "def neural_net_keep_prob_input():\n",
    "    \"\"\"\n",
    "    Return a Tensor for keep probability\n",
    "    : return: Tensor for keep probability.\n",
    "    \"\"\"\n",
    "    # TODO: Implement Function\n",
    "    return tf.placeholder(tf.float32, name='keep_prob')\n",
    "\n",
    "\n",
    "\"\"\"\n",
    "DON'T MODIFY ANYTHING IN THIS CELL THAT IS BELOW THIS LINE\n",
    "\"\"\"\n",
    "tf.reset_default_graph()\n",
    "tests.test_nn_image_inputs(neural_net_image_input)\n",
    "tests.test_nn_label_inputs(neural_net_label_input)\n",
    "tests.test_nn_keep_prob_inputs(neural_net_keep_prob_input)"
   ]
  },
  {
   "cell_type": "markdown",
   "metadata": {
    "deletable": true,
    "editable": true
   },
   "source": [
    "### Convolution and Max Pooling Layer\n",
    "Convolution layers have a lot of success with images. For this code cell, you should implement the function `conv2d_maxpool` to apply convolution then max pooling:\n",
    "* Create the weight and bias using `conv_ksize`, `conv_num_outputs` and the shape of `x_tensor`.\n",
    "* Apply a convolution to `x_tensor` using weight and `conv_strides`.\n",
    " * We recommend you use same padding, but you're welcome to use any padding.\n",
    "* Add bias\n",
    "* Add a nonlinear activation to the convolution.\n",
    "* Apply Max Pooling using `pool_ksize` and `pool_strides`.\n",
    " * We recommend you use same padding, but you're welcome to use any padding.\n",
    "\n",
    "Note: You **can't** use [TensorFlow Layers](https://www.tensorflow.org/api_docs/python/tf/layers) or [TensorFlow Layers (contrib)](https://www.tensorflow.org/api_guides/python/contrib.layers) for this layer.  You're free to use any TensorFlow package for all the other layers."
   ]
  },
  {
   "cell_type": "code",
   "execution_count": 10,
   "metadata": {
    "collapsed": false,
    "deletable": true,
    "editable": true
   },
   "outputs": [
    {
     "name": "stdout",
     "output_type": "stream",
     "text": [
      "Tests Passed\n"
     ]
    }
   ],
   "source": [
    "def conv2d_maxpool(x_tensor, conv_num_outputs, conv_ksize, conv_strides, pool_ksize, pool_strides):\n",
    "    \"\"\"\n",
    "    Apply convolution then max pooling to x_tensor\n",
    "    :param x_tensor: TensorFlow Tensor\n",
    "    :param conv_num_outputs: Number of outputs for the convolutional layer\n",
    "    :param conv_strides: Stride 2-D Tuple for convolution\n",
    "    :param pool_ksize: kernal size 2-D Tuple for pool\n",
    "    :param pool_strides: Stride 2-D Tuple for pool\n",
    "    : return: A tensor that represents convolution and max pooling of x_tensor\n",
    "    \"\"\"\n",
    "    # TODO: Implement Function\n",
    "    strides =[1, conv_strides[0], conv_strides[1], 1];\n",
    "    weights = tf.Variable(tf.truncated_normal([conv_ksize[0],conv_ksize[1], x_tensor.get_shape()[3].value, conv_num_outputs], mean=0, stddev=0.01));\n",
    "    padding = 'SAME';\n",
    "    bias = tf.Variable(tf.zeros(conv_num_outputs))\n",
    "    conv  = tf.nn.conv2d(x_tensor, weights, strides, padding)\n",
    "    conv  = tf.nn.bias_add(conv, bias)\n",
    "    conv  = tf.nn.relu(conv)\n",
    "    conv = tf.nn.max_pool(conv, ksize=[1, pool_ksize[0],pool_ksize[1], 1], strides=[1,pool_strides[0],pool_strides[1],1], padding='SAME')\n",
    "    return conv \n",
    " \n",
    " \n",
    "\"\"\"\n",
    "DON'T MODIFY ANYTHING IN THIS CELL THAT IS BELOW THIS LINE\n",
    "\"\"\"\n",
    "tests.test_con_pool(conv2d_maxpool)"
   ]
  },
  {
   "cell_type": "markdown",
   "metadata": {
    "deletable": true,
    "editable": true
   },
   "source": [
    "### Flatten Layer\n",
    "Implement the `flatten` function to change the dimension of `x_tensor` from a 4-D tensor to a 2-D tensor.  The output should be the shape (*Batch Size*, *Flattened Image Size*). You can use [TensorFlow Layers](https://www.tensorflow.org/api_docs/python/tf/layers) or [TensorFlow Layers (contrib)](https://www.tensorflow.org/api_guides/python/contrib.layers) for this layer."
   ]
  },
  {
   "cell_type": "code",
   "execution_count": 11,
   "metadata": {
    "collapsed": false,
    "deletable": true,
    "editable": true
   },
   "outputs": [
    {
     "name": "stdout",
     "output_type": "stream",
     "text": [
      "Tests Passed\n"
     ]
    }
   ],
   "source": [
    "def flatten(x_tensor):\n",
    "    \"\"\"\n",
    "    Flatten x_tensor to (Batch Size, Flattened Image Size)\n",
    "    : x_tensor: A tensor of size (Batch Size, ...), where ... are the image dimensions.\n",
    "    : return: A tensor of size (Batch Size, Flattened Image Size).\n",
    "    \"\"\"\n",
    "    # TODO: Implement Function\n",
    "    x0,x1,x2 = (x_tensor.get_shape().as_list()[1:4])\n",
    "    return tf.reshape(x_tensor, [-1,x0*x1*x2])\n",
    "\n",
    "\"\"\"\n",
    "DON'T MODIFY ANYTHING IN THIS CELL THAT IS BELOW THIS LINE\n",
    "\"\"\"\n",
    "tests.test_flatten(flatten)"
   ]
  },
  {
   "cell_type": "markdown",
   "metadata": {
    "deletable": true,
    "editable": true
   },
   "source": [
    "### Fully-Connected Layer\n",
    "Implement the `fully_conn` function to apply a fully connected layer to `x_tensor` with the shape (*Batch Size*, *num_outputs*). You can use [TensorFlow Layers](https://www.tensorflow.org/api_docs/python/tf/layers) or [TensorFlow Layers (contrib)](https://www.tensorflow.org/api_guides/python/contrib.layers) for this layer."
   ]
  },
  {
   "cell_type": "code",
   "execution_count": 12,
   "metadata": {
    "collapsed": false,
    "deletable": true,
    "editable": true
   },
   "outputs": [
    {
     "name": "stdout",
     "output_type": "stream",
     "text": [
      "Tests Passed\n"
     ]
    }
   ],
   "source": [
    "def fully_conn(x_tensor, num_outputs):\n",
    "    \"\"\"\n",
    "    Apply a fully connected layer to x_tensor using weight and bias\n",
    "    : x_tensor: A 2-D tensor where the first dimension is batch size.\n",
    "    : num_outputs: The number of output that the new tensor should be.\n",
    "    : return: A 2-D tensor where the second dimension is num_outputs.\n",
    "    \"\"\"\n",
    "    # TODO: Implement Function\n",
    "    f_shape = (x_tensor.get_shape().as_list()[1],) + (num_outputs,)\n",
    "    weight = tf.Variable(tf.truncated_normal(shape=f_shape,mean = 0.0, stddev=0.1))\n",
    "    bias = tf.Variable(tf.zeros(num_outputs))\n",
    "    return tf.nn.relu(tf.add(tf.matmul(x_tensor, weight), bias))\n",
    "\n",
    "\n",
    "\"\"\"\n",
    "DON'T MODIFY ANYTHING IN THIS CELL THAT IS BELOW THIS LINE\n",
    "\"\"\"\n",
    "tests.test_fully_conn(fully_conn)"
   ]
  },
  {
   "cell_type": "markdown",
   "metadata": {
    "deletable": true,
    "editable": true
   },
   "source": [
    "### Output Layer\n",
    "Implement the `output` function to apply a fully connected layer to `x_tensor` with the shape (*Batch Size*, *num_outputs*). You can use [TensorFlow Layers](https://www.tensorflow.org/api_docs/python/tf/layers) or [TensorFlow Layers (contrib)](https://www.tensorflow.org/api_guides/python/contrib.layers) for this layer.\n",
    "\n",
    "Note: Activation, softmax, or cross entropy shouldn't be applied to this."
   ]
  },
  {
   "cell_type": "code",
   "execution_count": 13,
   "metadata": {
    "collapsed": false,
    "deletable": true,
    "editable": true
   },
   "outputs": [
    {
     "name": "stdout",
     "output_type": "stream",
     "text": [
      "Tests Passed\n"
     ]
    }
   ],
   "source": [
    "def output(x_tensor, num_outputs):\n",
    "    \"\"\"\n",
    "    Apply a output layer to x_tensor using weight and bias\n",
    "    : x_tensor: A 2-D tensor where the first dimension is batch size.\n",
    "    : num_outputs: The number of output that the new tensor should be.\n",
    "    : return: A 2-D tensor where the second dimension is num_outputs.\n",
    "    \"\"\"\n",
    "    # TODO: Implement Function\n",
    "    f_shape = (x_tensor.get_shape().as_list()[1],) + (num_outputs,)\n",
    "    weight = tf.Variable(tf.truncated_normal(shape=f_shape,mean = 0.0, stddev=0.1))\n",
    "    bias = tf.Variable(tf.zeros(num_outputs))\n",
    "    return tf.add(tf.matmul(x_tensor, weight), bias)\n",
    "\n",
    "\n",
    "\"\"\"\n",
    "DON'T MODIFY ANYTHING IN THIS CELL THAT IS BELOW THIS LINE\n",
    "\"\"\"\n",
    "tests.test_output(output)"
   ]
  },
  {
   "cell_type": "markdown",
   "metadata": {
    "deletable": true,
    "editable": true
   },
   "source": [
    "### Create Convolutional Model\n",
    "Implement the function `conv_net` to create a convolutional neural network model. The function takes in a batch of images, `x`, and outputs logits.  Use the layers you created above to create this model:\n",
    "\n",
    "* Apply 1, 2, or 3 Convolution and Max Pool layers\n",
    "* Apply a Flatten Layer\n",
    "* Apply 1, 2, or 3 Fully Connected Layers\n",
    "* Apply an Output Layer\n",
    "* Return the output\n",
    "* Apply [TensorFlow's Dropout](https://www.tensorflow.org/api_docs/python/tf/nn/dropout) to one or more layers in the model using `keep_prob`. "
   ]
  },
  {
   "cell_type": "code",
   "execution_count": 14,
   "metadata": {
    "collapsed": false,
    "deletable": true,
    "editable": true
   },
   "outputs": [
    {
     "name": "stdout",
     "output_type": "stream",
     "text": [
      "Neural Network Built!\n"
     ]
    }
   ],
   "source": [
    "def conv_net(x, keep_prob):\n",
    "    \"\"\"\n",
    "    Create a convolutional neural network model\n",
    "    : x: Placeholder tensor that holds image data.\n",
    "    : keep_prob: Placeholder tensor that hold dropout keep probability.\n",
    "    : return: Tensor that represents logits\n",
    "    \"\"\"\n",
    "    # TODO: Apply 1, 2, or 3 Convolution and Max Pool layers\n",
    "    #    Play around with different number of outputs, kernel size and stride\n",
    "    # Function Definition from Above:\n",
    "    #    conv2d_maxpool(x_tensor, conv_num_outputs, conv_ksize, conv_strides, pool_ksize, pool_strides)\n",
    "    conv1 = conv2d_maxpool(x, 19, [5,5], [1,1], [2,2], [2,2])\n",
    "    conv2 = conv2d_maxpool(conv1, 49, conv_ksize=[5,5], conv_strides=[1,1], pool_ksize=[2,2], pool_strides=[2,2])\n",
    "    conv = tf.nn.dropout(conv2, keep_prob=keep_prob)\n",
    "\n",
    "    # TODO: Apply a Flatten Layer\n",
    "    # Function Definition from Above:\n",
    "    #   flatten(x_tensor)\n",
    "    flat_x = flatten(conv)\n",
    "\n",
    "    # TODO: Apply 1, 2, or 3 Fully Connected Layers\n",
    "    #    Play around with different number of outputs\n",
    "    # Function Definition from Above:\n",
    "    #   fully_conn(x_tensor, num_outputs)\n",
    "    fl1 = fully_conn(flat_x, 380)\n",
    "    fl1 = tf.nn.relu(fl1)\n",
    "    fl1 = tf.nn.dropout(fl1, keep_prob)\n",
    "    \n",
    "    fl2 = fully_conn(fl1, 250)\n",
    "    fl2= tf.nn.relu(fl2)\n",
    "    fl2 = tf.nn.dropout(fl2, keep_prob+0.2)\n",
    "    \n",
    "    # TODO: Apply an Output Layer\n",
    "    #    Set this to the number of classes\n",
    "    # Function Definition from Above:\n",
    "    #   output(x_tensor, num_outputs)\n",
    "    out = output(fl2,10)\n",
    "    \n",
    "    # TODO: return output\n",
    "    return out\n",
    "\n",
    "\n",
    "\"\"\"\n",
    "DON'T MODIFY ANYTHING IN THIS CELL THAT IS BELOW THIS LINE\n",
    "\"\"\"\n",
    "\n",
    "##############################\n",
    "## Build the Neural Network ##\n",
    "##############################\n",
    "\n",
    "# Remove previous weights, bias, inputs, etc..\n",
    "tf.reset_default_graph()\n",
    "\n",
    "# Inputs\n",
    "x = neural_net_image_input((32, 32, 3))\n",
    "y = neural_net_label_input(10)\n",
    "keep_prob = neural_net_keep_prob_input()\n",
    "\n",
    "# Model\n",
    "logits = conv_net(x, keep_prob)\n",
    "\n",
    "# Name logits Tensor, so that is can be loaded from disk after training\n",
    "logits = tf.identity(logits, name='logits')\n",
    "\n",
    "# Loss and Optimizer\n",
    "cost = tf.reduce_mean(tf.nn.softmax_cross_entropy_with_logits(logits=logits, labels=y))\n",
    "optimizer = tf.train.AdamOptimizer().minimize(cost)\n",
    "\n",
    "# Accuracy\n",
    "correct_pred = tf.equal(tf.argmax(logits, 1), tf.argmax(y, 1))\n",
    "accuracy = tf.reduce_mean(tf.cast(correct_pred, tf.float32), name='accuracy')\n",
    "\n",
    "tests.test_conv_net(conv_net)"
   ]
  },
  {
   "cell_type": "markdown",
   "metadata": {
    "deletable": true,
    "editable": true
   },
   "source": [
    "## Train the Neural Network\n",
    "### Single Optimization\n",
    "Implement the function `train_neural_network` to do a single optimization.  The optimization should use `optimizer` to optimize in `session` with a `feed_dict` of the following:\n",
    "* `x` for image input\n",
    "* `y` for labels\n",
    "* `keep_prob` for keep probability for dropout\n",
    "\n",
    "This function will be called for each batch, so `tf.global_variables_initializer()` has already been called.\n",
    "\n",
    "Note: Nothing needs to be returned. This function is only optimizing the neural network."
   ]
  },
  {
   "cell_type": "code",
   "execution_count": 15,
   "metadata": {
    "collapsed": false,
    "deletable": true,
    "editable": true
   },
   "outputs": [
    {
     "name": "stdout",
     "output_type": "stream",
     "text": [
      "Tests Passed\n"
     ]
    }
   ],
   "source": [
    "def train_neural_network(session, optimizer, keep_probability, feature_batch, label_batch):\n",
    "    \"\"\"\n",
    "    Optimize the session on a batch of images and labels\n",
    "    : session: Current TensorFlow session\n",
    "    : optimizer: TensorFlow optimizer function\n",
    "    : keep_probability: keep probability\n",
    "    : feature_batch: Batch of Numpy image data\n",
    "    : label_batch: Batch of Numpy label data\n",
    "    \"\"\"\n",
    "    # TODO: Implement Function\n",
    "    session.run(optimizer,feed_dict={x:feature_batch, y:label_batch, keep_prob: keep_probability})\n",
    "\n",
    "\n",
    "\"\"\"\n",
    "DON'T MODIFY ANYTHING IN THIS CELL THAT IS BELOW THIS LINE\n",
    "\"\"\"\n",
    "tests.test_train_nn(train_neural_network)"
   ]
  },
  {
   "cell_type": "markdown",
   "metadata": {
    "deletable": true,
    "editable": true
   },
   "source": [
    "### Show Stats\n",
    "Implement the function `print_stats` to print loss and validation accuracy.  Use the global variables `valid_features` and `valid_labels` to calculate validation accuracy.  Use a keep probability of `1.0` to calculate the loss and validation accuracy."
   ]
  },
  {
   "cell_type": "code",
   "execution_count": 19,
   "metadata": {
    "collapsed": false,
    "deletable": true,
    "editable": true
   },
   "outputs": [],
   "source": [
    "def print_stats(session, feature_batch, label_batch, cost, accuracy):\n",
    "    \"\"\"\n",
    "    Print information about loss and validation accuracy\n",
    "    : session: Current TensorFlow session\n",
    "    : feature_batch: Batch of Numpy image data\n",
    "    : label_batch: Batch of Numpy label data\n",
    "    : cost: TensorFlow cost function\n",
    "    : accuracy: TensorFlow accuracy function\n",
    "    \"\"\"\n",
    "    # TODO: Implement Function\n",
    "    loss = session.run(cost, feed_dict={x:feature_batch, y:label_batch, keep_prob:1.0})\n",
    "    valid_acc, loss = session.run([accuracy,cost], feed_dict={x:valid_features, y:valid_labels, keep_prob:1.0})\n",
    "    print('Loss: {:>10.4f}  Validation Accuracy: {:.6f}'.format(loss, valid_acc))"
   ]
  },
  {
   "cell_type": "markdown",
   "metadata": {
    "deletable": true,
    "editable": true
   },
   "source": [
    "### Hyperparameters\n",
    "Tune the following parameters:\n",
    "* Set `epochs` to the number of iterations until the network stops learning or start overfitting\n",
    "* Set `batch_size` to the highest number that your machine has memory for.  Most people set them to common sizes of memory:\n",
    " * 64\n",
    " * 128\n",
    " * 256\n",
    " * ...\n",
    "* Set `keep_probability` to the probability of keeping a node using dropout"
   ]
  },
  {
   "cell_type": "code",
   "execution_count": 20,
   "metadata": {
    "collapsed": true,
    "deletable": true,
    "editable": true
   },
   "outputs": [],
   "source": [
    "# TODO: Tune Parameters\n",
    "epochs = 40\n",
    "batch_size = 64\n",
    "keep_probability = 0.5"
   ]
  },
  {
   "cell_type": "markdown",
   "metadata": {
    "deletable": true,
    "editable": true
   },
   "source": [
    "### Train on a Single CIFAR-10 Batch\n",
    "Instead of training the neural network on all the CIFAR-10 batches of data, let's use a single batch. This should save time while you iterate on the model to get a better accuracy.  Once the final validation accuracy is 50% or greater, run the model on all the data in the next section."
   ]
  },
  {
   "cell_type": "code",
   "execution_count": 21,
   "metadata": {
    "collapsed": false,
    "deletable": true,
    "editable": true
   },
   "outputs": [
    {
     "name": "stdout",
     "output_type": "stream",
     "text": [
      "Checking the Training on a Single Batch...\n",
      "Epoch  1, CIFAR-10 Batch 1:  Loss:     2.0324  Validation Accuracy: 0.256000\n",
      "Epoch  2, CIFAR-10 Batch 1:  Loss:     1.9094  Validation Accuracy: 0.297600\n",
      "Epoch  3, CIFAR-10 Batch 1:  Loss:     1.8744  Validation Accuracy: 0.313000\n",
      "Epoch  4, CIFAR-10 Batch 1:  Loss:     1.7370  Validation Accuracy: 0.369600\n",
      "Epoch  5, CIFAR-10 Batch 1:  Loss:     1.6516  Validation Accuracy: 0.400400\n",
      "Epoch  6, CIFAR-10 Batch 1:  Loss:     1.6220  Validation Accuracy: 0.421800\n",
      "Epoch  7, CIFAR-10 Batch 1:  Loss:     1.5769  Validation Accuracy: 0.440600\n",
      "Epoch  8, CIFAR-10 Batch 1:  Loss:     1.5307  Validation Accuracy: 0.448200\n",
      "Epoch  9, CIFAR-10 Batch 1:  Loss:     1.4872  Validation Accuracy: 0.467600\n",
      "Epoch 10, CIFAR-10 Batch 1:  Loss:     1.4922  Validation Accuracy: 0.461800\n",
      "Epoch 11, CIFAR-10 Batch 1:  Loss:     1.4623  Validation Accuracy: 0.477200\n",
      "Epoch 12, CIFAR-10 Batch 1:  Loss:     1.5034  Validation Accuracy: 0.465400\n",
      "Epoch 13, CIFAR-10 Batch 1:  Loss:     1.4491  Validation Accuracy: 0.478200\n",
      "Epoch 14, CIFAR-10 Batch 1:  Loss:     1.4413  Validation Accuracy: 0.483800\n",
      "Epoch 15, CIFAR-10 Batch 1:  Loss:     1.4182  Validation Accuracy: 0.487200\n",
      "Epoch 16, CIFAR-10 Batch 1:  Loss:     1.4771  Validation Accuracy: 0.470000\n",
      "Epoch 17, CIFAR-10 Batch 1:  Loss:     1.4144  Validation Accuracy: 0.493000\n",
      "Epoch 18, CIFAR-10 Batch 1:  Loss:     1.4329  Validation Accuracy: 0.486200\n",
      "Epoch 19, CIFAR-10 Batch 1:  Loss:     1.3904  Validation Accuracy: 0.502000\n",
      "Epoch 20, CIFAR-10 Batch 1:  Loss:     1.3899  Validation Accuracy: 0.501800\n",
      "Epoch 21, CIFAR-10 Batch 1:  Loss:     1.4292  Validation Accuracy: 0.490200\n",
      "Epoch 22, CIFAR-10 Batch 1:  Loss:     1.3723  Validation Accuracy: 0.506400\n",
      "Epoch 23, CIFAR-10 Batch 1:  Loss:     1.4220  Validation Accuracy: 0.492600\n",
      "Epoch 24, CIFAR-10 Batch 1:  Loss:     1.3991  Validation Accuracy: 0.504000\n",
      "Epoch 25, CIFAR-10 Batch 1:  Loss:     1.3859  Validation Accuracy: 0.506200\n",
      "Epoch 26, CIFAR-10 Batch 1:  Loss:     1.3878  Validation Accuracy: 0.502600\n",
      "Epoch 27, CIFAR-10 Batch 1:  Loss:     1.3762  Validation Accuracy: 0.509000\n",
      "Epoch 28, CIFAR-10 Batch 1:  Loss:     1.3935  Validation Accuracy: 0.508200\n",
      "Epoch 29, CIFAR-10 Batch 1:  Loss:     1.3448  Validation Accuracy: 0.527200\n",
      "Epoch 30, CIFAR-10 Batch 1:  Loss:     1.3379  Validation Accuracy: 0.527400\n",
      "Epoch 31, CIFAR-10 Batch 1:  Loss:     1.3416  Validation Accuracy: 0.523600\n",
      "Epoch 32, CIFAR-10 Batch 1:  Loss:     1.3359  Validation Accuracy: 0.526800\n",
      "Epoch 33, CIFAR-10 Batch 1:  Loss:     1.3407  Validation Accuracy: 0.520600\n",
      "Epoch 34, CIFAR-10 Batch 1:  Loss:     1.3242  Validation Accuracy: 0.522200\n",
      "Epoch 35, CIFAR-10 Batch 1:  Loss:     1.3552  Validation Accuracy: 0.514400\n",
      "Epoch 36, CIFAR-10 Batch 1:  Loss:     1.3211  Validation Accuracy: 0.535800\n",
      "Epoch 37, CIFAR-10 Batch 1:  Loss:     1.3227  Validation Accuracy: 0.528600\n",
      "Epoch 38, CIFAR-10 Batch 1:  Loss:     1.3222  Validation Accuracy: 0.530600\n",
      "Epoch 39, CIFAR-10 Batch 1:  Loss:     1.3285  Validation Accuracy: 0.524600\n",
      "Epoch 40, CIFAR-10 Batch 1:  Loss:     1.3317  Validation Accuracy: 0.524600\n"
     ]
    }
   ],
   "source": [
    "\"\"\"\n",
    "DON'T MODIFY ANYTHING IN THIS CELL\n",
    "\"\"\"\n",
    "print('Checking the Training on a Single Batch...')\n",
    "with tf.Session() as sess:\n",
    "    # Initializing the variables\n",
    "    sess.run(tf.global_variables_initializer())\n",
    "    \n",
    "    # Training cycle\n",
    "    for epoch in range(epochs):\n",
    "        batch_i = 1\n",
    "        for batch_features, batch_labels in helper.load_preprocess_training_batch(batch_i, batch_size):\n",
    "            train_neural_network(sess, optimizer, keep_probability, batch_features, batch_labels)\n",
    "        print('Epoch {:>2}, CIFAR-10 Batch {}:  '.format(epoch + 1, batch_i), end='')\n",
    "        print_stats(sess, batch_features, batch_labels, cost, accuracy)"
   ]
  },
  {
   "cell_type": "markdown",
   "metadata": {
    "deletable": true,
    "editable": true
   },
   "source": [
    "### Fully Train the Model\n",
    "Now that you got a good accuracy with a single CIFAR-10 batch, try it with all five batches."
   ]
  },
  {
   "cell_type": "code",
   "execution_count": 22,
   "metadata": {
    "collapsed": false,
    "deletable": true,
    "editable": true,
    "scrolled": false
   },
   "outputs": [
    {
     "name": "stdout",
     "output_type": "stream",
     "text": [
      "Training...\n",
      "Epoch  1, CIFAR-10 Batch 1:  Loss:     2.0845  Validation Accuracy: 0.239000\n",
      "Epoch  1, CIFAR-10 Batch 2:  Loss:     1.9786  Validation Accuracy: 0.267400\n",
      "Epoch  1, CIFAR-10 Batch 3:  Loss:     1.9179  Validation Accuracy: 0.299000\n",
      "Epoch  1, CIFAR-10 Batch 4:  Loss:     1.8438  Validation Accuracy: 0.321800\n",
      "Epoch  1, CIFAR-10 Batch 5:  Loss:     1.7920  Validation Accuracy: 0.340400\n",
      "Epoch  2, CIFAR-10 Batch 1:  Loss:     1.7563  Validation Accuracy: 0.348600\n",
      "Epoch  2, CIFAR-10 Batch 2:  Loss:     1.7463  Validation Accuracy: 0.353400\n",
      "Epoch  2, CIFAR-10 Batch 3:  Loss:     1.7076  Validation Accuracy: 0.366400\n",
      "Epoch  2, CIFAR-10 Batch 4:  Loss:     1.6953  Validation Accuracy: 0.376800\n",
      "Epoch  2, CIFAR-10 Batch 5:  Loss:     1.6756  Validation Accuracy: 0.385800\n",
      "Epoch  3, CIFAR-10 Batch 1:  Loss:     1.6713  Validation Accuracy: 0.391600\n",
      "Epoch  3, CIFAR-10 Batch 2:  Loss:     1.6673  Validation Accuracy: 0.391800\n",
      "Epoch  3, CIFAR-10 Batch 3:  Loss:     1.6539  Validation Accuracy: 0.382200\n",
      "Epoch  3, CIFAR-10 Batch 4:  Loss:     1.6435  Validation Accuracy: 0.396200\n",
      "Epoch  3, CIFAR-10 Batch 5:  Loss:     1.6281  Validation Accuracy: 0.410800\n",
      "Epoch  4, CIFAR-10 Batch 1:  Loss:     1.6570  Validation Accuracy: 0.395000\n",
      "Epoch  4, CIFAR-10 Batch 2:  Loss:     1.6105  Validation Accuracy: 0.412000\n",
      "Epoch  4, CIFAR-10 Batch 3:  Loss:     1.6324  Validation Accuracy: 0.401600\n",
      "Epoch  4, CIFAR-10 Batch 4:  Loss:     1.6012  Validation Accuracy: 0.404600\n",
      "Epoch  4, CIFAR-10 Batch 5:  Loss:     1.6145  Validation Accuracy: 0.412800\n",
      "Epoch  5, CIFAR-10 Batch 1:  Loss:     1.5896  Validation Accuracy: 0.417200\n",
      "Epoch  5, CIFAR-10 Batch 2:  Loss:     1.5888  Validation Accuracy: 0.416800\n",
      "Epoch  5, CIFAR-10 Batch 3:  Loss:     1.5743  Validation Accuracy: 0.419400\n",
      "Epoch  5, CIFAR-10 Batch 4:  Loss:     1.5678  Validation Accuracy: 0.422400\n",
      "Epoch  5, CIFAR-10 Batch 5:  Loss:     1.5688  Validation Accuracy: 0.435400\n",
      "Epoch  6, CIFAR-10 Batch 1:  Loss:     1.5692  Validation Accuracy: 0.427600\n",
      "Epoch  6, CIFAR-10 Batch 2:  Loss:     1.5783  Validation Accuracy: 0.421200\n",
      "Epoch  6, CIFAR-10 Batch 3:  Loss:     1.5670  Validation Accuracy: 0.424600\n",
      "Epoch  6, CIFAR-10 Batch 4:  Loss:     1.5633  Validation Accuracy: 0.424800\n",
      "Epoch  6, CIFAR-10 Batch 5:  Loss:     1.5623  Validation Accuracy: 0.437000\n",
      "Epoch  7, CIFAR-10 Batch 1:  Loss:     1.5506  Validation Accuracy: 0.434000\n",
      "Epoch  7, CIFAR-10 Batch 2:  Loss:     1.5562  Validation Accuracy: 0.429000\n",
      "Epoch  7, CIFAR-10 Batch 3:  Loss:     1.5396  Validation Accuracy: 0.432000\n",
      "Epoch  7, CIFAR-10 Batch 4:  Loss:     1.5492  Validation Accuracy: 0.437000\n",
      "Epoch  7, CIFAR-10 Batch 5:  Loss:     1.5254  Validation Accuracy: 0.444000\n",
      "Epoch  8, CIFAR-10 Batch 1:  Loss:     1.5350  Validation Accuracy: 0.443200\n",
      "Epoch  8, CIFAR-10 Batch 2:  Loss:     1.5145  Validation Accuracy: 0.441400\n",
      "Epoch  8, CIFAR-10 Batch 3:  Loss:     1.5173  Validation Accuracy: 0.441000\n",
      "Epoch  8, CIFAR-10 Batch 4:  Loss:     1.5123  Validation Accuracy: 0.449600\n",
      "Epoch  8, CIFAR-10 Batch 5:  Loss:     1.5413  Validation Accuracy: 0.444200\n",
      "Epoch  9, CIFAR-10 Batch 1:  Loss:     1.5104  Validation Accuracy: 0.448000\n",
      "Epoch  9, CIFAR-10 Batch 2:  Loss:     1.5166  Validation Accuracy: 0.441400\n",
      "Epoch  9, CIFAR-10 Batch 3:  Loss:     1.4893  Validation Accuracy: 0.456200\n",
      "Epoch  9, CIFAR-10 Batch 4:  Loss:     1.5072  Validation Accuracy: 0.445000\n",
      "Epoch  9, CIFAR-10 Batch 5:  Loss:     1.4993  Validation Accuracy: 0.457800\n",
      "Epoch 10, CIFAR-10 Batch 1:  Loss:     1.4901  Validation Accuracy: 0.451400\n",
      "Epoch 10, CIFAR-10 Batch 2:  Loss:     1.4899  Validation Accuracy: 0.455000\n",
      "Epoch 10, CIFAR-10 Batch 3:  Loss:     1.4718  Validation Accuracy: 0.458200\n",
      "Epoch 10, CIFAR-10 Batch 4:  Loss:     1.4842  Validation Accuracy: 0.455800\n",
      "Epoch 10, CIFAR-10 Batch 5:  Loss:     1.4765  Validation Accuracy: 0.463200\n",
      "Epoch 11, CIFAR-10 Batch 1:  Loss:     1.4749  Validation Accuracy: 0.457800\n",
      "Epoch 11, CIFAR-10 Batch 2:  Loss:     1.4684  Validation Accuracy: 0.464200\n",
      "Epoch 11, CIFAR-10 Batch 3:  Loss:     1.4620  Validation Accuracy: 0.464800\n",
      "Epoch 11, CIFAR-10 Batch 4:  Loss:     1.5159  Validation Accuracy: 0.445600\n",
      "Epoch 11, CIFAR-10 Batch 5:  Loss:     1.5081  Validation Accuracy: 0.455000\n",
      "Epoch 12, CIFAR-10 Batch 1:  Loss:     1.4775  Validation Accuracy: 0.459000\n",
      "Epoch 12, CIFAR-10 Batch 2:  Loss:     1.4747  Validation Accuracy: 0.456400\n",
      "Epoch 12, CIFAR-10 Batch 3:  Loss:     1.4653  Validation Accuracy: 0.459000\n",
      "Epoch 12, CIFAR-10 Batch 4:  Loss:     1.4538  Validation Accuracy: 0.471200\n",
      "Epoch 12, CIFAR-10 Batch 5:  Loss:     1.4676  Validation Accuracy: 0.466400\n",
      "Epoch 13, CIFAR-10 Batch 1:  Loss:     1.4367  Validation Accuracy: 0.480200\n",
      "Epoch 13, CIFAR-10 Batch 2:  Loss:     1.4603  Validation Accuracy: 0.471400\n",
      "Epoch 13, CIFAR-10 Batch 3:  Loss:     1.4428  Validation Accuracy: 0.469400\n",
      "Epoch 13, CIFAR-10 Batch 4:  Loss:     1.4371  Validation Accuracy: 0.476800\n",
      "Epoch 13, CIFAR-10 Batch 5:  Loss:     1.4594  Validation Accuracy: 0.471000\n",
      "Epoch 14, CIFAR-10 Batch 1:  Loss:     1.4247  Validation Accuracy: 0.485400\n",
      "Epoch 14, CIFAR-10 Batch 2:  Loss:     1.4419  Validation Accuracy: 0.473800\n",
      "Epoch 14, CIFAR-10 Batch 3:  Loss:     1.4341  Validation Accuracy: 0.477200\n",
      "Epoch 14, CIFAR-10 Batch 4:  Loss:     1.4682  Validation Accuracy: 0.467200\n",
      "Epoch 14, CIFAR-10 Batch 5:  Loss:     1.4502  Validation Accuracy: 0.473400\n",
      "Epoch 15, CIFAR-10 Batch 1:  Loss:     1.4584  Validation Accuracy: 0.474000\n",
      "Epoch 15, CIFAR-10 Batch 2:  Loss:     1.4268  Validation Accuracy: 0.481000\n",
      "Epoch 15, CIFAR-10 Batch 3:  Loss:     1.4356  Validation Accuracy: 0.477000\n",
      "Epoch 15, CIFAR-10 Batch 4:  Loss:     1.4242  Validation Accuracy: 0.485800\n",
      "Epoch 15, CIFAR-10 Batch 5:  Loss:     1.4227  Validation Accuracy: 0.485000\n",
      "Epoch 16, CIFAR-10 Batch 1:  Loss:     1.4155  Validation Accuracy: 0.487000\n",
      "Epoch 16, CIFAR-10 Batch 2:  Loss:     1.4238  Validation Accuracy: 0.486000\n",
      "Epoch 16, CIFAR-10 Batch 3:  Loss:     1.4094  Validation Accuracy: 0.486400\n",
      "Epoch 16, CIFAR-10 Batch 4:  Loss:     1.4126  Validation Accuracy: 0.489200\n",
      "Epoch 16, CIFAR-10 Batch 5:  Loss:     1.4277  Validation Accuracy: 0.486200\n",
      "Epoch 17, CIFAR-10 Batch 1:  Loss:     1.3947  Validation Accuracy: 0.498200\n",
      "Epoch 17, CIFAR-10 Batch 2:  Loss:     1.4200  Validation Accuracy: 0.487200\n",
      "Epoch 17, CIFAR-10 Batch 3:  Loss:     1.3920  Validation Accuracy: 0.498000\n",
      "Epoch 17, CIFAR-10 Batch 4:  Loss:     1.4042  Validation Accuracy: 0.492800\n",
      "Epoch 17, CIFAR-10 Batch 5:  Loss:     1.4227  Validation Accuracy: 0.490400\n",
      "Epoch 18, CIFAR-10 Batch 1:  Loss:     1.3986  Validation Accuracy: 0.497600\n",
      "Epoch 18, CIFAR-10 Batch 2:  Loss:     1.3984  Validation Accuracy: 0.490600\n",
      "Epoch 18, CIFAR-10 Batch 3:  Loss:     1.4085  Validation Accuracy: 0.487600\n",
      "Epoch 18, CIFAR-10 Batch 4:  Loss:     1.4005  Validation Accuracy: 0.497800\n",
      "Epoch 18, CIFAR-10 Batch 5:  Loss:     1.3889  Validation Accuracy: 0.497200\n",
      "Epoch 19, CIFAR-10 Batch 1:  Loss:     1.4196  Validation Accuracy: 0.489400\n",
      "Epoch 19, CIFAR-10 Batch 2:  Loss:     1.3813  Validation Accuracy: 0.503400\n",
      "Epoch 19, CIFAR-10 Batch 3:  Loss:     1.3814  Validation Accuracy: 0.501400\n",
      "Epoch 19, CIFAR-10 Batch 4:  Loss:     1.3931  Validation Accuracy: 0.499000\n",
      "Epoch 19, CIFAR-10 Batch 5:  Loss:     1.3893  Validation Accuracy: 0.506400\n",
      "Epoch 20, CIFAR-10 Batch 1:  Loss:     1.3554  Validation Accuracy: 0.516800\n",
      "Epoch 20, CIFAR-10 Batch 2:  Loss:     1.3861  Validation Accuracy: 0.501400\n",
      "Epoch 20, CIFAR-10 Batch 3:  Loss:     1.3802  Validation Accuracy: 0.500000\n",
      "Epoch 20, CIFAR-10 Batch 4:  Loss:     1.3704  Validation Accuracy: 0.509800\n",
      "Epoch 20, CIFAR-10 Batch 5:  Loss:     1.4019  Validation Accuracy: 0.501000\n",
      "Epoch 21, CIFAR-10 Batch 1:  Loss:     1.3659  Validation Accuracy: 0.510400\n",
      "Epoch 21, CIFAR-10 Batch 2:  Loss:     1.3676  Validation Accuracy: 0.510600\n",
      "Epoch 21, CIFAR-10 Batch 3:  Loss:     1.3777  Validation Accuracy: 0.499600\n",
      "Epoch 21, CIFAR-10 Batch 4:  Loss:     1.3633  Validation Accuracy: 0.518600\n",
      "Epoch 21, CIFAR-10 Batch 5:  Loss:     1.3647  Validation Accuracy: 0.516200\n",
      "Epoch 22, CIFAR-10 Batch 1:  Loss:     1.3618  Validation Accuracy: 0.505000\n",
      "Epoch 22, CIFAR-10 Batch 2:  Loss:     1.3567  Validation Accuracy: 0.517800\n",
      "Epoch 22, CIFAR-10 Batch 3:  Loss:     1.3670  Validation Accuracy: 0.507000\n",
      "Epoch 22, CIFAR-10 Batch 4:  Loss:     1.3528  Validation Accuracy: 0.521200\n",
      "Epoch 22, CIFAR-10 Batch 5:  Loss:     1.3607  Validation Accuracy: 0.518800\n",
      "Epoch 23, CIFAR-10 Batch 1:  Loss:     1.3471  Validation Accuracy: 0.518400\n",
      "Epoch 23, CIFAR-10 Batch 2:  Loss:     1.3479  Validation Accuracy: 0.519400\n",
      "Epoch 23, CIFAR-10 Batch 3:  Loss:     1.3546  Validation Accuracy: 0.514600\n",
      "Epoch 23, CIFAR-10 Batch 4:  Loss:     1.3406  Validation Accuracy: 0.529800\n",
      "Epoch 23, CIFAR-10 Batch 5:  Loss:     1.3652  Validation Accuracy: 0.520600\n",
      "Epoch 24, CIFAR-10 Batch 1:  Loss:     1.3514  Validation Accuracy: 0.521400\n",
      "Epoch 24, CIFAR-10 Batch 2:  Loss:     1.3404  Validation Accuracy: 0.523200\n",
      "Epoch 24, CIFAR-10 Batch 3:  Loss:     1.3517  Validation Accuracy: 0.520200\n",
      "Epoch 24, CIFAR-10 Batch 4:  Loss:     1.3310  Validation Accuracy: 0.528000\n",
      "Epoch 24, CIFAR-10 Batch 5:  Loss:     1.3372  Validation Accuracy: 0.528600\n",
      "Epoch 25, CIFAR-10 Batch 1:  Loss:     1.3365  Validation Accuracy: 0.529400\n",
      "Epoch 25, CIFAR-10 Batch 2:  Loss:     1.3358  Validation Accuracy: 0.528000\n",
      "Epoch 25, CIFAR-10 Batch 3:  Loss:     1.3373  Validation Accuracy: 0.521200\n",
      "Epoch 25, CIFAR-10 Batch 4:  Loss:     1.3311  Validation Accuracy: 0.530400\n",
      "Epoch 25, CIFAR-10 Batch 5:  Loss:     1.3300  Validation Accuracy: 0.531600\n",
      "Epoch 26, CIFAR-10 Batch 1:  Loss:     1.3283  Validation Accuracy: 0.530600\n",
      "Epoch 26, CIFAR-10 Batch 2:  Loss:     1.3358  Validation Accuracy: 0.524400\n",
      "Epoch 26, CIFAR-10 Batch 3:  Loss:     1.3452  Validation Accuracy: 0.527400\n",
      "Epoch 26, CIFAR-10 Batch 4:  Loss:     1.3286  Validation Accuracy: 0.530800\n",
      "Epoch 26, CIFAR-10 Batch 5:  Loss:     1.3489  Validation Accuracy: 0.527200\n",
      "Epoch 27, CIFAR-10 Batch 1:  Loss:     1.3212  Validation Accuracy: 0.533200\n",
      "Epoch 27, CIFAR-10 Batch 2:  Loss:     1.3346  Validation Accuracy: 0.521800\n",
      "Epoch 27, CIFAR-10 Batch 3:  Loss:     1.3434  Validation Accuracy: 0.517800\n",
      "Epoch 27, CIFAR-10 Batch 4:  Loss:     1.3183  Validation Accuracy: 0.537400\n",
      "Epoch 27, CIFAR-10 Batch 5:  Loss:     1.3441  Validation Accuracy: 0.527600\n",
      "Epoch 28, CIFAR-10 Batch 1:  Loss:     1.3137  Validation Accuracy: 0.537400\n",
      "Epoch 28, CIFAR-10 Batch 2:  Loss:     1.3202  Validation Accuracy: 0.534400\n",
      "Epoch 28, CIFAR-10 Batch 3:  Loss:     1.3297  Validation Accuracy: 0.527800\n",
      "Epoch 28, CIFAR-10 Batch 4:  Loss:     1.3193  Validation Accuracy: 0.531200\n",
      "Epoch 28, CIFAR-10 Batch 5:  Loss:     1.3244  Validation Accuracy: 0.528000\n",
      "Epoch 29, CIFAR-10 Batch 1:  Loss:     1.3114  Validation Accuracy: 0.539600\n",
      "Epoch 29, CIFAR-10 Batch 2:  Loss:     1.3400  Validation Accuracy: 0.521400\n",
      "Epoch 29, CIFAR-10 Batch 3:  Loss:     1.3186  Validation Accuracy: 0.524400\n",
      "Epoch 29, CIFAR-10 Batch 4:  Loss:     1.3148  Validation Accuracy: 0.533800\n",
      "Epoch 29, CIFAR-10 Batch 5:  Loss:     1.3076  Validation Accuracy: 0.535200\n",
      "Epoch 30, CIFAR-10 Batch 1:  Loss:     1.2985  Validation Accuracy: 0.543800\n",
      "Epoch 30, CIFAR-10 Batch 2:  Loss:     1.3140  Validation Accuracy: 0.531800\n",
      "Epoch 30, CIFAR-10 Batch 3:  Loss:     1.3121  Validation Accuracy: 0.532800\n",
      "Epoch 30, CIFAR-10 Batch 4:  Loss:     1.3241  Validation Accuracy: 0.532200\n",
      "Epoch 30, CIFAR-10 Batch 5:  Loss:     1.3059  Validation Accuracy: 0.542200\n",
      "Epoch 31, CIFAR-10 Batch 1:  Loss:     1.2899  Validation Accuracy: 0.551200\n",
      "Epoch 31, CIFAR-10 Batch 2:  Loss:     1.2980  Validation Accuracy: 0.541000\n",
      "Epoch 31, CIFAR-10 Batch 3:  Loss:     1.3033  Validation Accuracy: 0.537200\n",
      "Epoch 31, CIFAR-10 Batch 4:  Loss:     1.3175  Validation Accuracy: 0.535800\n",
      "Epoch 31, CIFAR-10 Batch 5:  Loss:     1.3313  Validation Accuracy: 0.530000\n",
      "Epoch 32, CIFAR-10 Batch 1:  Loss:     1.2888  Validation Accuracy: 0.547600\n",
      "Epoch 32, CIFAR-10 Batch 2:  Loss:     1.2905  Validation Accuracy: 0.546200\n",
      "Epoch 32, CIFAR-10 Batch 3:  Loss:     1.3047  Validation Accuracy: 0.536000\n",
      "Epoch 32, CIFAR-10 Batch 4:  Loss:     1.3093  Validation Accuracy: 0.535400\n",
      "Epoch 32, CIFAR-10 Batch 5:  Loss:     1.3073  Validation Accuracy: 0.537200\n",
      "Epoch 33, CIFAR-10 Batch 1:  Loss:     1.2901  Validation Accuracy: 0.549400\n",
      "Epoch 33, CIFAR-10 Batch 2:  Loss:     1.2884  Validation Accuracy: 0.544400\n",
      "Epoch 33, CIFAR-10 Batch 3:  Loss:     1.2963  Validation Accuracy: 0.533600\n",
      "Epoch 33, CIFAR-10 Batch 4:  Loss:     1.2968  Validation Accuracy: 0.543200\n",
      "Epoch 33, CIFAR-10 Batch 5:  Loss:     1.2988  Validation Accuracy: 0.539000\n",
      "Epoch 34, CIFAR-10 Batch 1:  Loss:     1.2994  Validation Accuracy: 0.543400\n",
      "Epoch 34, CIFAR-10 Batch 2:  Loss:     1.2938  Validation Accuracy: 0.542200\n",
      "Epoch 34, CIFAR-10 Batch 3:  Loss:     1.2928  Validation Accuracy: 0.539800\n",
      "Epoch 34, CIFAR-10 Batch 4:  Loss:     1.3012  Validation Accuracy: 0.543000\n",
      "Epoch 34, CIFAR-10 Batch 5:  Loss:     1.2950  Validation Accuracy: 0.542800\n",
      "Epoch 35, CIFAR-10 Batch 1:  Loss:     1.2771  Validation Accuracy: 0.546200\n",
      "Epoch 35, CIFAR-10 Batch 2:  Loss:     1.2929  Validation Accuracy: 0.544800\n",
      "Epoch 35, CIFAR-10 Batch 3:  Loss:     1.3008  Validation Accuracy: 0.537200\n",
      "Epoch 35, CIFAR-10 Batch 4:  Loss:     1.2928  Validation Accuracy: 0.547200\n",
      "Epoch 35, CIFAR-10 Batch 5:  Loss:     1.3147  Validation Accuracy: 0.543200\n",
      "Epoch 36, CIFAR-10 Batch 1:  Loss:     1.3006  Validation Accuracy: 0.543400\n",
      "Epoch 36, CIFAR-10 Batch 2:  Loss:     1.2829  Validation Accuracy: 0.551000\n",
      "Epoch 36, CIFAR-10 Batch 3:  Loss:     1.2910  Validation Accuracy: 0.540600\n",
      "Epoch 36, CIFAR-10 Batch 4:  Loss:     1.3001  Validation Accuracy: 0.542000\n",
      "Epoch 36, CIFAR-10 Batch 5:  Loss:     1.3499  Validation Accuracy: 0.526400\n",
      "Epoch 37, CIFAR-10 Batch 1:  Loss:     1.2993  Validation Accuracy: 0.541400\n",
      "Epoch 37, CIFAR-10 Batch 2:  Loss:     1.2763  Validation Accuracy: 0.547800\n",
      "Epoch 37, CIFAR-10 Batch 3:  Loss:     1.2799  Validation Accuracy: 0.548200\n",
      "Epoch 37, CIFAR-10 Batch 4:  Loss:     1.2959  Validation Accuracy: 0.543800\n",
      "Epoch 37, CIFAR-10 Batch 5:  Loss:     1.2844  Validation Accuracy: 0.552200\n",
      "Epoch 38, CIFAR-10 Batch 1:  Loss:     1.2770  Validation Accuracy: 0.554200\n",
      "Epoch 38, CIFAR-10 Batch 2:  Loss:     1.2658  Validation Accuracy: 0.554000\n",
      "Epoch 38, CIFAR-10 Batch 3:  Loss:     1.2656  Validation Accuracy: 0.554600\n",
      "Epoch 38, CIFAR-10 Batch 4:  Loss:     1.2761  Validation Accuracy: 0.556200\n",
      "Epoch 38, CIFAR-10 Batch 5:  Loss:     1.2940  Validation Accuracy: 0.545400\n",
      "Epoch 39, CIFAR-10 Batch 1:  Loss:     1.2581  Validation Accuracy: 0.560000\n",
      "Epoch 39, CIFAR-10 Batch 2:  Loss:     1.2696  Validation Accuracy: 0.551800\n",
      "Epoch 39, CIFAR-10 Batch 3:  Loss:     1.2799  Validation Accuracy: 0.550400\n",
      "Epoch 39, CIFAR-10 Batch 4:  Loss:     1.2937  Validation Accuracy: 0.551200\n",
      "Epoch 39, CIFAR-10 Batch 5:  Loss:     1.2744  Validation Accuracy: 0.551000\n",
      "Epoch 40, CIFAR-10 Batch 1:  Loss:     1.2683  Validation Accuracy: 0.558800\n",
      "Epoch 40, CIFAR-10 Batch 2:  Loss:     1.2695  Validation Accuracy: 0.553400\n",
      "Epoch 40, CIFAR-10 Batch 3:  Loss:     1.2743  Validation Accuracy: 0.550800\n",
      "Epoch 40, CIFAR-10 Batch 4:  Loss:     1.2690  Validation Accuracy: 0.560200\n",
      "Epoch 40, CIFAR-10 Batch 5:  Loss:     1.2686  Validation Accuracy: 0.555600\n"
     ]
    }
   ],
   "source": [
    "\"\"\"\n",
    "DON'T MODIFY ANYTHING IN THIS CELL\n",
    "\"\"\"\n",
    "save_model_path = './image_classification'\n",
    "\n",
    "print('Training...')\n",
    "with tf.Session() as sess:\n",
    "    # Initializing the variables\n",
    "    sess.run(tf.global_variables_initializer())\n",
    "    \n",
    "    # Training cycle\n",
    "    for epoch in range(epochs):\n",
    "        # Loop over all batches\n",
    "        n_batches = 5\n",
    "        for batch_i in range(1, n_batches + 1):\n",
    "            for batch_features, batch_labels in helper.load_preprocess_training_batch(batch_i, batch_size):\n",
    "                train_neural_network(sess, optimizer, keep_probability, batch_features, batch_labels)\n",
    "            print('Epoch {:>2}, CIFAR-10 Batch {}:  '.format(epoch + 1, batch_i), end='')\n",
    "            print_stats(sess, batch_features, batch_labels, cost, accuracy)\n",
    "            \n",
    "    # Save Model\n",
    "    saver = tf.train.Saver()\n",
    "    save_path = saver.save(sess, save_model_path)"
   ]
  },
  {
   "cell_type": "markdown",
   "metadata": {
    "deletable": true,
    "editable": true
   },
   "source": [
    "# Checkpoint\n",
    "The model has been saved to disk.\n",
    "## Test Model\n",
    "Test your model against the test dataset.  This will be your final accuracy. You should have an accuracy greater than 50%. If you don't, keep tweaking the model architecture and parameters."
   ]
  },
  {
   "cell_type": "code",
   "execution_count": 23,
   "metadata": {
    "collapsed": false,
    "deletable": true,
    "editable": true
   },
   "outputs": [
    {
     "name": "stdout",
     "output_type": "stream",
     "text": [
      "Testing Accuracy: 0.5494625796178344\n",
      "\n"
     ]
    },
    {
     "data": {
      "image/png": "[encoded data removed]",
      "text/plain": [
       "<matplotlib.figure.Figure at 0x22243cc40f0>"
      ]
     },
     "metadata": {
      "image/png": {
       "height": 319,
       "width": 355
      }
     },
     "output_type": "display_data"
    }
   ],
   "source": [
    "\"\"\"\n",
    "DON'T MODIFY ANYTHING IN THIS CELL\n",
    "\"\"\"\n",
    "%matplotlib inline\n",
    "%config InlineBackend.figure_format = 'retina'\n",
    "\n",
    "import tensorflow as tf\n",
    "import pickle\n",
    "import helper\n",
    "import random\n",
    "\n",
    "# Set batch size if not already set\n",
    "try:\n",
    "    if batch_size:\n",
    "        pass\n",
    "except NameError:\n",
    "    batch_size = 64\n",
    "\n",
    "save_model_path = './image_classification'\n",
    "n_samples = 4\n",
    "top_n_predictions = 3\n",
    "\n",
    "def test_model():\n",
    "    \"\"\"\n",
    "    Test the saved model against the test dataset\n",
    "    \"\"\"\n",
    "\n",
    "    test_features, test_labels = pickle.load(open('preprocess_training.p', mode='rb'))\n",
    "    loaded_graph = tf.Graph()\n",
    "\n",
    "    with tf.Session(graph=loaded_graph) as sess:\n",
    "        # Load model\n",
    "        loader = tf.train.import_meta_graph(save_model_path + '.meta')\n",
    "        loader.restore(sess, save_model_path)\n",
    "\n",
    "        # Get Tensors from loaded model\n",
    "        loaded_x = loaded_graph.get_tensor_by_name('x:0')\n",
    "        loaded_y = loaded_graph.get_tensor_by_name('y:0')\n",
    "        loaded_keep_prob = loaded_graph.get_tensor_by_name('keep_prob:0')\n",
    "        loaded_logits = loaded_graph.get_tensor_by_name('logits:0')\n",
    "        loaded_acc = loaded_graph.get_tensor_by_name('accuracy:0')\n",
    "        \n",
    "        # Get accuracy in batches for memory limitations\n",
    "        test_batch_acc_total = 0\n",
    "        test_batch_count = 0\n",
    "        \n",
    "        for train_feature_batch, train_label_batch in helper.batch_features_labels(test_features, test_labels, batch_size):\n",
    "            test_batch_acc_total += sess.run(\n",
    "                loaded_acc,\n",
    "                feed_dict={loaded_x: train_feature_batch, loaded_y: train_label_batch, loaded_keep_prob: 1.0})\n",
    "            test_batch_count += 1\n",
    "\n",
    "        print('Testing Accuracy: {}\\n'.format(test_batch_acc_total/test_batch_count))\n",
    "\n",
    "        # Print Random Samples\n",
    "        random_test_features, random_test_labels = tuple(zip(*random.sample(list(zip(test_features, test_labels)), n_samples)))\n",
    "        random_test_predictions = sess.run(\n",
    "            tf.nn.top_k(tf.nn.softmax(loaded_logits), top_n_predictions),\n",
    "            feed_dict={loaded_x: random_test_features, loaded_y: random_test_labels, loaded_keep_prob: 1.0})\n",
    "        helper.display_image_predictions(random_test_features, random_test_labels, random_test_predictions)\n",
    "\n",
    "\n",
    "test_model()"
   ]
  },
  {
   "cell_type": "markdown",
   "metadata": {
    "deletable": true,
    "editable": true
   },
   "source": [
    "## Why 50-70% Accuracy?\n",
    "You might be wondering why you can't get an accuracy any higher. First things first, 50% isn't bad for a simple CNN.  Pure guessing would get you 10% accuracy. However, you might notice people are getting scores [well above 70%](http://rodrigob.github.io/are_we_there_yet/build/classification_datasets_results.html#43494641522d3130).  That's because we haven't taught you all there is to know about neural networks. We still need to cover a few more techniques.\n",
    "## Submitting This Project\n",
    "When submitting this project, make sure to run all the cells before saving the notebook.  Save the notebook file as \"dlnd_image_classification.ipynb\" and save it as a HTML file under \"File\" -> \"Download as\".  Include the \"helper.py\" and \"problem_unittests.py\" files in your submission."
   ]
  },
  {
   "cell_type": "code",
   "execution_count": null,
   "metadata": {
    "collapsed": true
   },
   "outputs": [],
   "source": []
  }
 ],
 "metadata": {
  "kernelspec": {
   "display_name": "Python 3",
   "language": "python",
   "name": "python3"
  },
  "language_info": {
   "codemirror_mode": {
    "name": "ipython",
    "version": 3
   },
   "file_extension": ".py",
   "mimetype": "text/x-python",
   "name": "python",
   "nbconvert_exporter": "python",
   "pygments_lexer": "ipython3",
   "version": "3.6.0"
  },
  "widgets": {
   "state": {},
   "version": "1.1.2"
  }
 },
 "nbformat": 4,
 "nbformat_minor": 0
}
