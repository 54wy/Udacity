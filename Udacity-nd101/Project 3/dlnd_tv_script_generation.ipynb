{
 "cells": [
  {
   "cell_type": "markdown",
   "metadata": {
    "deletable": true,
    "editable": true
   },
   "source": [
    "# TV Script Generation\n",
    "In this project, you'll generate your own [Simpsons](https://en.wikipedia.org/wiki/The_Simpsons) TV scripts using RNNs.  You'll be using part of the [Simpsons dataset](https://www.kaggle.com/wcukierski/the-simpsons-by-the-data) of scripts from 27 seasons.  The Neural Network you'll build will generate a new TV script for a scene at [Moe's Tavern](https://simpsonswiki.com/wiki/Moe's_Tavern).\n",
    "## Get the Data\n",
    "The data is already provided for you.  You'll be using a subset of the original dataset.  It consists of only the scenes in Moe's Tavern.  This doesn't include other versions of the tavern, like \"Moe's Cavern\", \"Flaming Moe's\", \"Uncle Moe's Family Feed-Bag\", etc.."
   ]
  },
  {
   "cell_type": "code",
   "execution_count": 1,
   "metadata": {
    "collapsed": false,
    "deletable": true,
    "editable": true
   },
   "outputs": [],
   "source": [
    "\"\"\"\n",
    "DON'T MODIFY ANYTHING IN THIS CELL\n",
    "\"\"\"\n",
    "import helper\n",
    "\n",
    "data_dir = './data/simpsons/moes_tavern_lines.txt'\n",
    "text = helper.load_data(data_dir)\n",
    "# Ignore notice, since we don't use it for analysing the data\n",
    "text = text[81:]"
   ]
  },
  {
   "cell_type": "markdown",
   "metadata": {
    "deletable": true,
    "editable": true
   },
   "source": [
    "## Explore the Data\n",
    "Play around with `view_sentence_range` to view different parts of the data."
   ]
  },
  {
   "cell_type": "code",
   "execution_count": 2,
   "metadata": {
    "collapsed": false,
    "deletable": true,
    "editable": true
   },
   "outputs": [
    {
     "name": "stdout",
     "output_type": "stream",
     "text": [
      "Dataset Stats\n",
      "Roughly the number of unique words: 11492\n",
      "Number of scenes: 262\n",
      "Average number of sentences in each scene: 15.248091603053435\n",
      "Number of lines: 4257\n",
      "Average number of words in each line: 11.50434578341555\n",
      "\n",
      "The sentences 0 to 10:\n",
      "Moe_Szyslak: (INTO PHONE) Moe's Tavern. Where the elite meet to drink.\n",
      "Bart_Simpson: Eh, yeah, hello, is Mike there? Last name, Rotch.\n",
      "Moe_Szyslak: (INTO PHONE) Hold on, I'll check. (TO BARFLIES) Mike Rotch. Mike Rotch. Hey, has anybody seen Mike Rotch, lately?\n",
      "Moe_Szyslak: (INTO PHONE) Listen you little puke. One of these days I'm gonna catch you, and I'm gonna carve my name on your back with an ice pick.\n",
      "Moe_Szyslak: What's the matter Homer? You're not your normal effervescent self.\n",
      "Homer_Simpson: I got my problems, Moe. Give me another one.\n",
      "Moe_Szyslak: Homer, hey, you should not drink to forget your problems.\n",
      "Barney_Gumble: Yeah, you should only drink to enhance your social skills.\n",
      "\n",
      "\n"
     ]
    }
   ],
   "source": [
    "view_sentence_range = (0, 10)\n",
    "\n",
    "\"\"\"\n",
    "DON'T MODIFY ANYTHING IN THIS CELL\n",
    "\"\"\"\n",
    "import numpy as np\n",
    "\n",
    "print('Dataset Stats')\n",
    "print('Roughly the number of unique words: {}'.format(len({word: None for word in text.split()})))\n",
    "scenes = text.split('\\n\\n')\n",
    "print('Number of scenes: {}'.format(len(scenes)))\n",
    "sentence_count_scene = [scene.count('\\n') for scene in scenes]\n",
    "print('Average number of sentences in each scene: {}'.format(np.average(sentence_count_scene)))\n",
    "\n",
    "sentences = [sentence for scene in scenes for sentence in scene.split('\\n')]\n",
    "print('Number of lines: {}'.format(len(sentences)))\n",
    "word_count_sentence = [len(sentence.split()) for sentence in sentences]\n",
    "print('Average number of words in each line: {}'.format(np.average(word_count_sentence)))\n",
    "\n",
    "print()\n",
    "print('The sentences {} to {}:'.format(*view_sentence_range))\n",
    "print('\\n'.join(text.split('\\n')[view_sentence_range[0]:view_sentence_range[1]]))"
   ]
  },
  {
   "cell_type": "markdown",
   "metadata": {
    "deletable": true,
    "editable": true
   },
   "source": [
    "## Implement Preprocessing Functions\n",
    "The first thing to do to any dataset is preprocessing.  Implement the following preprocessing functions below:\n",
    "- Lookup Table\n",
    "- Tokenize Punctuation\n",
    "\n",
    "### Lookup Table\n",
    "To create a word embedding, you first need to transform the words to ids.  In this function, create two dictionaries:\n",
    "- Dictionary to go from the words to an id, we'll call `vocab_to_int`\n",
    "- Dictionary to go from the id to word, we'll call `int_to_vocab`\n",
    "\n",
    "Return these dictionaries in the following tuple `(vocab_to_int, int_to_vocab)`"
   ]
  },
  {
   "cell_type": "code",
   "execution_count": 3,
   "metadata": {
    "collapsed": false,
    "deletable": true,
    "editable": true
   },
   "outputs": [
    {
     "name": "stdout",
     "output_type": "stream",
     "text": [
      "Tests Passed\n"
     ]
    }
   ],
   "source": [
    "import numpy as np\n",
    "import problem_unittests as tests\n",
    "def create_lookup_tables(text):\n",
    "    \"\"\"\n",
    "    Create lookup tables for vocabulary\n",
    "    :param text: The text of tv scripts split into words\n",
    "    :return: A tuple of dicts (vocab_to_int, int_to_vocab)\n",
    "    \"\"\"\n",
    "    # TODO: Implement Function\n",
    "    vocab = set(text)\n",
    "    vocab_to_int = {c: i for i, c in enumerate(vocab)}\n",
    "    int_to_vocab = dict(enumerate(vocab))\n",
    "    return (vocab_to_int, int_to_vocab)\n",
    "   \n",
    "\n",
    "\"\"\"\n",
    "DON'T MODIFY ANYTHING IN THIS CELL THAT IS BELOW THIS LINE\n",
    "\"\"\"\n",
    "tests.test_create_lookup_tables(create_lookup_tables)"
   ]
  },
  {
   "cell_type": "markdown",
   "metadata": {
    "deletable": true,
    "editable": true
   },
   "source": [
    "### Tokenize Punctuation\n",
    "We'll be splitting the script into a word array using spaces as delimiters.  However, punctuations like periods and exclamation marks make it hard for the neural network to distinguish between the word \"bye\" and \"bye!\".\n",
    "\n",
    "Implement the function `token_lookup` to return a dict that will be used to tokenize symbols like \"!\" into \"||Exclamation_Mark||\".  Create a dictionary for the following symbols where the symbol is the key and value is the token:\n",
    "- Period ( . )\n",
    "- Comma ( , )\n",
    "- Quotation Mark ( \" )\n",
    "- Semicolon ( ; )\n",
    "- Exclamation mark ( ! )\n",
    "- Question mark ( ? )\n",
    "- Left Parentheses ( ( )\n",
    "- Right Parentheses ( ) )\n",
    "- Dash ( -- )\n",
    "- Return ( \\n )\n",
    "\n",
    "This dictionary will be used to token the symbols and add the delimiter (space) around it.  This separates the symbols as it's own word, making it easier for the neural network to predict on the next word. Make sure you don't use a token that could be confused as a word. Instead of using the token \"dash\", try using something like \"||dash||\"."
   ]
  },
  {
   "cell_type": "code",
   "execution_count": 4,
   "metadata": {
    "collapsed": false,
    "deletable": true,
    "editable": true
   },
   "outputs": [
    {
     "name": "stdout",
     "output_type": "stream",
     "text": [
      "Tests Passed\n"
     ]
    }
   ],
   "source": [
    "def token_lookup():\n",
    "    \"\"\"\n",
    "    Generate a dict to turn punctuation into a token.\n",
    "    :return: Tokenize dictionary where the key is the punctuation and the value is the token\n",
    "    \"\"\"\n",
    "    # TODO: Implement Function\n",
    "    return {'.':'||period||', \n",
    "            ',':'||comma||', \n",
    "            '\"':'||double_quotes||',\n",
    "            ';':'||semicolon||',\n",
    "            '!':'||exclamation_mark||',\n",
    "            '?':'||question_mark||',\n",
    "            '(':'||left_paren||',\n",
    "            ')':'||right_paren||',\n",
    "            '--':'||dash||',\n",
    "            '\\n':'||newline||'}\n",
    "\n",
    "\"\"\"\n",
    "DON'T MODIFY ANYTHING IN THIS CELL THAT IS BELOW THIS LINE\n",
    "\"\"\"\n",
    "tests.test_tokenize(token_lookup)"
   ]
  },
  {
   "cell_type": "markdown",
   "metadata": {
    "deletable": true,
    "editable": true
   },
   "source": [
    "## Preprocess all the data and save it\n",
    "Running the code cell below will preprocess all the data and save it to file."
   ]
  },
  {
   "cell_type": "code",
   "execution_count": 5,
   "metadata": {
    "collapsed": false,
    "deletable": true,
    "editable": true
   },
   "outputs": [],
   "source": [
    "\"\"\"\n",
    "DON'T MODIFY ANYTHING IN THIS CELL\n",
    "\"\"\"\n",
    "# Preprocess Training, Validation, and Testing Data\n",
    "helper.preprocess_and_save_data(data_dir, token_lookup, create_lookup_tables)"
   ]
  },
  {
   "cell_type": "markdown",
   "metadata": {
    "deletable": true,
    "editable": true
   },
   "source": [
    "# Check Point\n",
    "This is your first checkpoint. If you ever decide to come back to this notebook or have to restart the notebook, you can start from here. The preprocessed data has been saved to disk."
   ]
  },
  {
   "cell_type": "code",
   "execution_count": 6,
   "metadata": {
    "collapsed": false,
    "deletable": true,
    "editable": true
   },
   "outputs": [],
   "source": [
    "\"\"\"\n",
    "DON'T MODIFY ANYTHING IN THIS CELL\n",
    "\"\"\"\n",
    "import helper\n",
    "import numpy as np\n",
    "import problem_unittests as tests\n",
    "\n",
    "int_text, vocab_to_int, int_to_vocab, token_dict = helper.load_preprocess()"
   ]
  },
  {
   "cell_type": "markdown",
   "metadata": {
    "deletable": true,
    "editable": true
   },
   "source": [
    "## Build the Neural Network\n",
    "You'll build the components necessary to build a RNN by implementing the following functions below:\n",
    "- get_inputs\n",
    "- get_init_cell\n",
    "- get_embed\n",
    "- build_rnn\n",
    "- build_nn\n",
    "- get_batches\n",
    "\n",
    "### Check the Version of TensorFlow and Access to GPU"
   ]
  },
  {
   "cell_type": "code",
   "execution_count": 7,
   "metadata": {
    "collapsed": false,
    "deletable": true,
    "editable": true
   },
   "outputs": [
    {
     "name": "stdout",
     "output_type": "stream",
     "text": [
      "TensorFlow Version: 1.0.1\n"
     ]
    },
    {
     "name": "stderr",
     "output_type": "stream",
     "text": [
      "f:\\program files\\python\\python36\\lib\\site-packages\\ipykernel\\__main__.py:14: UserWarning: No GPU found. Please use a GPU to train your neural network.\n"
     ]
    }
   ],
   "source": [
    "\"\"\"\n",
    "DON'T MODIFY ANYTHING IN THIS CELL\n",
    "\"\"\"\n",
    "from distutils.version import LooseVersion\n",
    "import warnings\n",
    "import tensorflow as tf\n",
    "\n",
    "# Check TensorFlow Version\n",
    "assert LooseVersion(tf.__version__) >= LooseVersion('1.0'), 'Please use TensorFlow version 1.0 or newer'\n",
    "print('TensorFlow Version: {}'.format(tf.__version__))\n",
    "\n",
    "# Check for a GPU\n",
    "if not tf.test.gpu_device_name():\n",
    "    warnings.warn('No GPU found. Please use a GPU to train your neural network.')\n",
    "else:\n",
    "    print('Default GPU Device: {}'.format(tf.test.gpu_device_name()))"
   ]
  },
  {
   "cell_type": "markdown",
   "metadata": {
    "deletable": true,
    "editable": true
   },
   "source": [
    "### Input\n",
    "Implement the `get_inputs()` function to create TF Placeholders for the Neural Network.  It should create the following placeholders:\n",
    "- Input text placeholder named \"input\" using the [TF Placeholder](https://www.tensorflow.org/api_docs/python/tf/placeholder) `name` parameter.\n",
    "- Targets placeholder\n",
    "- Learning Rate placeholder\n",
    "\n",
    "Return the placeholders in the following the tuple `(Input, Targets, LearingRate)`"
   ]
  },
  {
   "cell_type": "code",
   "execution_count": 8,
   "metadata": {
    "collapsed": false,
    "deletable": true,
    "editable": true
   },
   "outputs": [
    {
     "name": "stdout",
     "output_type": "stream",
     "text": [
      "Tests Passed\n"
     ]
    }
   ],
   "source": [
    "def get_inputs():\n",
    "    \"\"\"\n",
    "    Create TF Placeholders for input, targets, and learning rate.\n",
    "    :return: Tuple (input, targets, learning rate)\n",
    "    \"\"\"\n",
    "    # TODO: Implement Function\n",
    "    input = tf.placeholder(tf.int32, [None, None], name='input')\n",
    "    targets = tf.placeholder(tf.int32, [None, None], name='targets')\n",
    "    learning_rate = tf.placeholder(tf.float32, name='learning_rate')\n",
    "    return (input, targets, learning_rate)\n",
    "\n",
    "\n",
    "\"\"\"\n",
    "DON'T MODIFY ANYTHING IN THIS CELL THAT IS BELOW THIS LINE\n",
    "\"\"\"\n",
    "tests.test_get_inputs(get_inputs)"
   ]
  },
  {
   "cell_type": "markdown",
   "metadata": {
    "deletable": true,
    "editable": true
   },
   "source": [
    "### Build RNN Cell and Initialize\n",
    "Stack one or more [`BasicLSTMCells`](https://www.tensorflow.org/api_docs/python/tf/contrib/rnn/BasicLSTMCell) in a [`MultiRNNCell`](https://www.tensorflow.org/api_docs/python/tf/contrib/rnn/MultiRNNCell).\n",
    "- The Rnn size should be set using `rnn_size`\n",
    "- Initalize Cell State using the MultiRNNCell's [`zero_state()`](https://www.tensorflow.org/api_docs/python/tf/contrib/rnn/MultiRNNCell#zero_state) function\n",
    "    - Apply the name \"initial_state\" to the initial state using [`tf.identity()`](https://www.tensorflow.org/api_docs/python/tf/identity)\n",
    "\n",
    "Return the cell and initial state in the following tuple `(Cell, InitialState)`"
   ]
  },
  {
   "cell_type": "code",
   "execution_count": 9,
   "metadata": {
    "collapsed": false,
    "deletable": true,
    "editable": true
   },
   "outputs": [
    {
     "name": "stdout",
     "output_type": "stream",
     "text": [
      "Tests Passed\n"
     ]
    }
   ],
   "source": [
    "def get_init_cell(batch_size, rnn_size):\n",
    "    \"\"\"\n",
    "    Create an RNN Cell and initialize it.\n",
    "    :param batch_size: Size of batches\n",
    "    :param rnn_size: Size of RNNs\n",
    "    :return: Tuple (cell, initialize state)\n",
    "    \"\"\"\n",
    "    # TODO: Implement Function\n",
    "    lstm = tf.contrib.rnn.BasicLSTMCell(rnn_size)\n",
    "    cell = tf.contrib.rnn.MultiRNNCell([lstm, lstm]) \n",
    "    initial_state = tf.identity(cell.zero_state(batch_size, tf.float32), name=\"initial_state\")\n",
    "    return (cell, initial_state)\n",
    "\n",
    "\n",
    "\"\"\"\n",
    "DON'T MODIFY ANYTHING IN THIS CELL THAT IS BELOW THIS LINE\n",
    "\"\"\"\n",
    "tests.test_get_init_cell(get_init_cell)"
   ]
  },
  {
   "cell_type": "markdown",
   "metadata": {
    "deletable": true,
    "editable": true
   },
   "source": [
    "### Word Embedding\n",
    "Apply embedding to `input_data` using TensorFlow.  Return the embedded sequence."
   ]
  },
  {
   "cell_type": "code",
   "execution_count": 10,
   "metadata": {
    "collapsed": false,
    "deletable": true,
    "editable": true
   },
   "outputs": [
    {
     "name": "stdout",
     "output_type": "stream",
     "text": [
      "Tests Passed\n"
     ]
    }
   ],
   "source": [
    "def get_embed(input_data, vocab_size, embed_dim):\n",
    "    \"\"\"\n",
    "    Create embedding for <input_data>.\n",
    "    :param input_data: TF placeholder for text input.\n",
    "    :param vocab_size: Number of words in vocabulary.\n",
    "    :param embed_dim: Number of embedding dimensions\n",
    "    :return: Embedded input.\n",
    "    \"\"\"\n",
    "    # TODO: Implement Function\n",
    "    embedding = tf.Variable(tf.random_uniform((vocab_size, embed_dim), -1, 1))\n",
    "    embed = tf.nn.embedding_lookup(embedding, input_data)\n",
    "    return embed\n",
    "\n",
    "\n",
    "\"\"\"\n",
    "DON'T MODIFY ANYTHING IN THIS CELL THAT IS BELOW THIS LINE\n",
    "\"\"\"\n",
    "tests.test_get_embed(get_embed)"
   ]
  },
  {
   "cell_type": "markdown",
   "metadata": {
    "deletable": true,
    "editable": true
   },
   "source": [
    "### Build RNN\n",
    "You created a RNN Cell in the `get_init_cell()` function.  Time to use the cell to create a RNN.\n",
    "- Build the RNN using the [`tf.nn.dynamic_rnn()`](https://www.tensorflow.org/api_docs/python/tf/nn/dynamic_rnn)\n",
    " - Apply the name \"final_state\" to the final state using [`tf.identity()`](https://www.tensorflow.org/api_docs/python/tf/identity)\n",
    "\n",
    "Return the outputs and final_state state in the following tuple `(Outputs, FinalState)` "
   ]
  },
  {
   "cell_type": "code",
   "execution_count": 11,
   "metadata": {
    "collapsed": false,
    "deletable": true,
    "editable": true
   },
   "outputs": [
    {
     "name": "stdout",
     "output_type": "stream",
     "text": [
      "Tests Passed\n"
     ]
    }
   ],
   "source": [
    "def build_rnn(cell, inputs):\n",
    "    \"\"\"\n",
    "    Create a RNN using a RNN Cell\n",
    "    :param cell: RNN Cell\n",
    "    :param inputs: Input text data\n",
    "    :return: Tuple (Outputs, Final State)\n",
    "    \"\"\"\n",
    "    # TODO: Implement Function\n",
    "    outputs, final_state = tf.nn.dynamic_rnn(cell, inputs, dtype=tf.float32)\n",
    "    final_state = tf.identity(final_state, name=\"final_state\")\n",
    "    return (outputs, final_state)\n",
    "\n",
    "\n",
    "\"\"\"\n",
    "DON'T MODIFY ANYTHING IN THIS CELL THAT IS BELOW THIS LINE\n",
    "\"\"\"\n",
    "tests.test_build_rnn(build_rnn)"
   ]
  },
  {
   "cell_type": "markdown",
   "metadata": {
    "deletable": true,
    "editable": true
   },
   "source": [
    "### Build the Neural Network\n",
    "Apply the functions you implemented above to:\n",
    "- Apply embedding to `input_data` using your `get_embed(input_data, vocab_size, embed_dim)` function.\n",
    "- Build RNN using `cell` and your `build_rnn(cell, inputs)` function.\n",
    "- Apply a fully connected layer with a linear activation and `vocab_size` as the number of outputs.\n",
    "\n",
    "Return the logits and final state in the following tuple (Logits, FinalState) "
   ]
  },
  {
   "cell_type": "code",
   "execution_count": 12,
   "metadata": {
    "collapsed": false,
    "deletable": true,
    "editable": true
   },
   "outputs": [
    {
     "name": "stdout",
     "output_type": "stream",
     "text": [
      "Tests Passed\n"
     ]
    }
   ],
   "source": [
    "def build_nn(cell, rnn_size, input_data, vocab_size):\n",
    "    \"\"\"\n",
    "    Build part of the neural network\n",
    "    :param cell: RNN cell\n",
    "    :param rnn_size: Size of rnns\n",
    "    :param input_data: Input data\n",
    "    :param vocab_size: Vocabulary size\n",
    "    :return: Tuple (Logits, FinalState)\n",
    "    \"\"\"\n",
    "    # TODO: Implement Function\n",
    "    inputs = get_embed(input_data, vocab_size, rnn_size) \n",
    "    outputs, final_state = build_rnn(cell, inputs)\n",
    "    logits = tf.contrib.layers.fully_connected(outputs, vocab_size, activation_fn=None)\n",
    "    return (logits, final_state)\n",
    "\n",
    "\n",
    "\n",
    "\"\"\"\n",
    "DON'T MODIFY ANYTHING IN THIS CELL THAT IS BELOW THIS LINE\n",
    "\"\"\"\n",
    "tests.test_build_nn(build_nn)"
   ]
  },
  {
   "cell_type": "markdown",
   "metadata": {
    "deletable": true,
    "editable": true
   },
   "source": [
    "### Batches\n",
    "Implement `get_batches` to create batches of input and targets using `int_text`.  The batches should be a Numpy array with the shape `(number of batches, 2, batch size, sequence length)`. Each batch contains two elements:\n",
    "- The first element is a single batch of **input** with the shape `[batch size, sequence length]`\n",
    "- The second element is a single batch of **targets** with the shape `[batch size, sequence length]`\n",
    "\n",
    "If you can't fill the last batch with enough data, drop the last batch.\n",
    "\n",
    "For exmple, `get_batches([1, 2, 3, 4, 5, 6, 7, 8, 9, 10, 11, 12, 13, 14, 15], 2, 3)` would return a Numpy array of the following:\n",
    "```\n",
    "[\n",
    "  # First Batch\n",
    "  [\n",
    "    # Batch of Input\n",
    "    [[ 1  2  3], [ 7  8  9]],\n",
    "    # Batch of targets\n",
    "    [[ 2  3  4], [ 8  9 10]]\n",
    "  ],\n",
    " \n",
    "  # Second Batch\n",
    "  [\n",
    "    # Batch of Input\n",
    "    [[ 4  5  6], [10 11 12]],\n",
    "    # Batch of targets\n",
    "    [[ 5  6  7], [11 12 13]]\n",
    "  ]\n",
    "]\n",
    "```"
   ]
  },
  {
   "cell_type": "code",
   "execution_count": 13,
   "metadata": {
    "collapsed": false,
    "deletable": true,
    "editable": true
   },
   "outputs": [
    {
     "name": "stdout",
     "output_type": "stream",
     "text": [
      "Tests Passed\n"
     ]
    }
   ],
   "source": [
    "def get_batches(int_text, batch_size, seq_length):\n",
    "    \"\"\"\n",
    "    Return batches of input and target\n",
    "    :param int_text: Text with the words replaced by their ids\n",
    "    :param batch_size: The size of batch\n",
    "    :param seq_length: The length of sequence\n",
    "    :return: Batches as a Numpy array\n",
    "    \"\"\"\n",
    "    # TODO: Implement Function\n",
    "    inputs = int_text[:len(int_text)-1]\n",
    "    targets = int_text[1:]\n",
    "    no_of_elements_in_a_batch = batch_size * seq_length\n",
    "    input_length = len(inputs)\n",
    "    \n",
    "   \n",
    "    upper_cutoff = input_length - (input_length % no_of_elements_in_a_batch)\n",
    "    \n",
    "    input_target_pairs = [ ([inputs[i] for i in range(x, x + seq_length)], \n",
    "                            [targets[i] for i in range(x, x + seq_length)]\n",
    "                           ) for x in range(0, upper_cutoff, seq_length)]\n",
    "    \n",
    "    no_of_batches = int(upper_cutoff / no_of_elements_in_a_batch)\n",
    "    \n",
    "    batches = np.zeros((no_of_batches, 2, batch_size, seq_length), dtype=int)\n",
    "    \n",
    "    i = 0\n",
    "    \n",
    "    for bs in range(batch_size):\n",
    "        for n in range(no_of_batches):\n",
    "            batches[n][0][bs] = input_target_pairs[i][0]\n",
    "            batches[n][1][bs] = input_target_pairs[i][1] \n",
    "            i += 1\n",
    "\n",
    "    \n",
    "    return batches\n",
    "\n",
    "\n",
    "\"\"\"\n",
    "DON'T MODIFY ANYTHING IN THIS CELL THAT IS BELOW THIS LINE\n",
    "\"\"\"\n",
    "tests.test_get_batches(get_batches)"
   ]
  },
  {
   "cell_type": "markdown",
   "metadata": {
    "deletable": true,
    "editable": true
   },
   "source": [
    "## Neural Network Training\n",
    "### Hyperparameters\n",
    "Tune the following parameters:\n",
    "\n",
    "- Set `num_epochs` to the number of epochs.\n",
    "- Set `batch_size` to the batch size.\n",
    "- Set `rnn_size` to the size of the RNNs.\n",
    "- Set `seq_length` to the length of sequence.\n",
    "- Set `learning_rate` to the learning rate.\n",
    "- Set `show_every_n_batches` to the number of batches the neural network should print progress."
   ]
  },
  {
   "cell_type": "code",
   "execution_count": 14,
   "metadata": {
    "collapsed": true,
    "deletable": true,
    "editable": true
   },
   "outputs": [],
   "source": [
    "# Number of Epochs\n",
    "num_epochs = 100\n",
    "# Batch Size\n",
    "batch_size = 15\n",
    "# RNN Size\n",
    "rnn_size = 256\n",
    "# Sequence Length\n",
    "seq_length = 15\n",
    "# Learning Rate\n",
    "learning_rate = 0.001\n",
    "# Show stats for every n number of batches\n",
    "show_every_n_batches = 100\n",
    "\n",
    "\"\"\"\n",
    "DON'T MODIFY ANYTHING IN THIS CELL THAT IS BELOW THIS LINE\n",
    "\"\"\"\n",
    "save_dir = './save'"
   ]
  },
  {
   "cell_type": "markdown",
   "metadata": {
    "deletable": true,
    "editable": true
   },
   "source": [
    "### Build the Graph\n",
    "Build the graph using the neural network you implemented."
   ]
  },
  {
   "cell_type": "code",
   "execution_count": 15,
   "metadata": {
    "collapsed": false,
    "deletable": true,
    "editable": true
   },
   "outputs": [],
   "source": [
    "\"\"\"\n",
    "DON'T MODIFY ANYTHING IN THIS CELL\n",
    "\"\"\"\n",
    "from tensorflow.contrib import seq2seq\n",
    "\n",
    "train_graph = tf.Graph()\n",
    "with train_graph.as_default():\n",
    "    vocab_size = len(int_to_vocab)\n",
    "    input_text, targets, lr = get_inputs()\n",
    "    input_data_shape = tf.shape(input_text)\n",
    "    cell, initial_state = get_init_cell(input_data_shape[0], rnn_size)\n",
    "    logits, final_state = build_nn(cell, rnn_size, input_text, vocab_size)\n",
    "\n",
    "    # Probabilities for generating words\n",
    "    probs = tf.nn.softmax(logits, name='probs')\n",
    "\n",
    "    # Loss function\n",
    "    cost = seq2seq.sequence_loss(\n",
    "        logits,\n",
    "        targets,\n",
    "        tf.ones([input_data_shape[0], input_data_shape[1]]))\n",
    "\n",
    "    # Optimizer\n",
    "    optimizer = tf.train.AdamOptimizer(lr)\n",
    "\n",
    "    # Gradient Clipping\n",
    "    gradients = optimizer.compute_gradients(cost)\n",
    "    capped_gradients = [(tf.clip_by_value(grad, -1., 1.), var) for grad, var in gradients]\n",
    "    train_op = optimizer.apply_gradients(capped_gradients)"
   ]
  },
  {
   "cell_type": "markdown",
   "metadata": {
    "deletable": true,
    "editable": true
   },
   "source": [
    "## Train\n",
    "Train the neural network on the preprocessed data.  If you have a hard time getting a good loss, check the [forms](https://discussions.udacity.com/) to see if anyone is having the same problem."
   ]
  },
  {
   "cell_type": "code",
   "execution_count": 16,
   "metadata": {
    "collapsed": false,
    "deletable": true,
    "editable": true
   },
   "outputs": [
    {
     "name": "stdout",
     "output_type": "stream",
     "text": [
      "Epoch   0 Batch    0/307   train_loss = 8.822\n",
      "Epoch   0 Batch  100/307   train_loss = 6.245\n",
      "Epoch   0 Batch  200/307   train_loss = 6.528\n",
      "Epoch   0 Batch  300/307   train_loss = 5.929\n",
      "Epoch   1 Batch   93/307   train_loss = 5.706\n",
      "Epoch   1 Batch  193/307   train_loss = 5.679\n",
      "Epoch   1 Batch  293/307   train_loss = 5.558\n",
      "Epoch   2 Batch   86/307   train_loss = 5.443\n",
      "Epoch   2 Batch  186/307   train_loss = 5.319\n",
      "Epoch   2 Batch  286/307   train_loss = 4.944\n",
      "Epoch   3 Batch   79/307   train_loss = 4.782\n",
      "Epoch   3 Batch  179/307   train_loss = 4.841\n",
      "Epoch   3 Batch  279/307   train_loss = 4.911\n",
      "Epoch   4 Batch   72/307   train_loss = 4.918\n",
      "Epoch   4 Batch  172/307   train_loss = 4.785\n",
      "Epoch   4 Batch  272/307   train_loss = 4.563\n",
      "Epoch   5 Batch   65/307   train_loss = 4.483\n",
      "Epoch   5 Batch  165/307   train_loss = 4.572\n",
      "Epoch   5 Batch  265/307   train_loss = 4.534\n",
      "Epoch   6 Batch   58/307   train_loss = 4.195\n",
      "Epoch   6 Batch  158/307   train_loss = 3.877\n",
      "Epoch   6 Batch  258/307   train_loss = 4.196\n",
      "Epoch   7 Batch   51/307   train_loss = 4.210\n",
      "Epoch   7 Batch  151/307   train_loss = 4.368\n",
      "Epoch   7 Batch  251/307   train_loss = 4.013\n",
      "Epoch   8 Batch   44/307   train_loss = 4.107\n",
      "Epoch   8 Batch  144/307   train_loss = 4.072\n",
      "Epoch   8 Batch  244/307   train_loss = 3.893\n",
      "Epoch   9 Batch   37/307   train_loss = 3.848\n",
      "Epoch   9 Batch  137/307   train_loss = 3.692\n",
      "Epoch   9 Batch  237/307   train_loss = 3.727\n",
      "Epoch  10 Batch   30/307   train_loss = 3.780\n",
      "Epoch  10 Batch  130/307   train_loss = 3.794\n",
      "Epoch  10 Batch  230/307   train_loss = 3.789\n",
      "Epoch  11 Batch   23/307   train_loss = 3.777\n",
      "Epoch  11 Batch  123/307   train_loss = 3.757\n",
      "Epoch  11 Batch  223/307   train_loss = 3.689\n",
      "Epoch  12 Batch   16/307   train_loss = 3.583\n",
      "Epoch  12 Batch  116/307   train_loss = 3.627\n",
      "Epoch  12 Batch  216/307   train_loss = 3.401\n",
      "Epoch  13 Batch    9/307   train_loss = 3.212\n",
      "Epoch  13 Batch  109/307   train_loss = 3.230\n",
      "Epoch  13 Batch  209/307   train_loss = 3.130\n",
      "Epoch  14 Batch    2/307   train_loss = 3.168\n",
      "Epoch  14 Batch  102/307   train_loss = 3.071\n",
      "Epoch  14 Batch  202/307   train_loss = 3.060\n",
      "Epoch  14 Batch  302/307   train_loss = 3.004\n",
      "Epoch  15 Batch   95/307   train_loss = 3.001\n",
      "Epoch  15 Batch  195/307   train_loss = 2.892\n",
      "Epoch  15 Batch  295/307   train_loss = 2.845\n",
      "Epoch  16 Batch   88/307   train_loss = 2.815\n",
      "Epoch  16 Batch  188/307   train_loss = 2.849\n",
      "Epoch  16 Batch  288/307   train_loss = 2.661\n",
      "Epoch  17 Batch   81/307   train_loss = 2.535\n",
      "Epoch  17 Batch  181/307   train_loss = 2.845\n",
      "Epoch  17 Batch  281/307   train_loss = 2.466\n",
      "Epoch  18 Batch   74/307   train_loss = 2.682\n",
      "Epoch  18 Batch  174/307   train_loss = 2.523\n",
      "Epoch  18 Batch  274/307   train_loss = 2.463\n",
      "Epoch  19 Batch   67/307   train_loss = 2.266\n",
      "Epoch  19 Batch  167/307   train_loss = 2.245\n",
      "Epoch  19 Batch  267/307   train_loss = 2.290\n",
      "Epoch  20 Batch   60/307   train_loss = 2.309\n",
      "Epoch  20 Batch  160/307   train_loss = 2.349\n",
      "Epoch  20 Batch  260/307   train_loss = 2.159\n",
      "Epoch  21 Batch   53/307   train_loss = 1.906\n",
      "Epoch  21 Batch  153/307   train_loss = 1.953\n",
      "Epoch  21 Batch  253/307   train_loss = 2.393\n",
      "Epoch  22 Batch   46/307   train_loss = 1.967\n",
      "Epoch  22 Batch  146/307   train_loss = 2.339\n",
      "Epoch  22 Batch  246/307   train_loss = 1.738\n",
      "Epoch  23 Batch   39/307   train_loss = 2.233\n",
      "Epoch  23 Batch  139/307   train_loss = 1.811\n",
      "Epoch  23 Batch  239/307   train_loss = 1.887\n",
      "Epoch  24 Batch   32/307   train_loss = 1.723\n",
      "Epoch  24 Batch  132/307   train_loss = 1.720\n",
      "Epoch  24 Batch  232/307   train_loss = 1.632\n",
      "Epoch  25 Batch   25/307   train_loss = 1.706\n",
      "Epoch  25 Batch  125/307   train_loss = 1.744\n",
      "Epoch  25 Batch  225/307   train_loss = 1.621\n",
      "Epoch  26 Batch   18/307   train_loss = 1.686\n",
      "Epoch  26 Batch  118/307   train_loss = 1.617\n",
      "Epoch  26 Batch  218/307   train_loss = 1.478\n",
      "Epoch  27 Batch   11/307   train_loss = 1.558\n",
      "Epoch  27 Batch  111/307   train_loss = 1.279\n",
      "Epoch  27 Batch  211/307   train_loss = 1.495\n",
      "Epoch  28 Batch    4/307   train_loss = 1.435\n",
      "Epoch  28 Batch  104/307   train_loss = 1.474\n",
      "Epoch  28 Batch  204/307   train_loss = 1.349\n",
      "Epoch  28 Batch  304/307   train_loss = 1.208\n",
      "Epoch  29 Batch   97/307   train_loss = 1.407\n",
      "Epoch  29 Batch  197/307   train_loss = 1.257\n",
      "Epoch  29 Batch  297/307   train_loss = 1.143\n",
      "Epoch  30 Batch   90/307   train_loss = 1.258\n",
      "Epoch  30 Batch  190/307   train_loss = 1.278\n",
      "Epoch  30 Batch  290/307   train_loss = 1.173\n",
      "Epoch  31 Batch   83/307   train_loss = 0.997\n",
      "Epoch  31 Batch  183/307   train_loss = 1.177\n",
      "Epoch  31 Batch  283/307   train_loss = 1.226\n",
      "Epoch  32 Batch   76/307   train_loss = 1.124\n",
      "Epoch  32 Batch  176/307   train_loss = 1.093\n",
      "Epoch  32 Batch  276/307   train_loss = 1.138\n",
      "Epoch  33 Batch   69/307   train_loss = 1.014\n",
      "Epoch  33 Batch  169/307   train_loss = 0.971\n",
      "Epoch  33 Batch  269/307   train_loss = 1.112\n",
      "Epoch  34 Batch   62/307   train_loss = 0.959\n",
      "Epoch  34 Batch  162/307   train_loss = 1.015\n",
      "Epoch  34 Batch  262/307   train_loss = 0.957\n",
      "Epoch  35 Batch   55/307   train_loss = 1.014\n",
      "Epoch  35 Batch  155/307   train_loss = 0.872\n",
      "Epoch  35 Batch  255/307   train_loss = 0.954\n",
      "Epoch  36 Batch   48/307   train_loss = 0.883\n",
      "Epoch  36 Batch  148/307   train_loss = 0.990\n",
      "Epoch  36 Batch  248/307   train_loss = 0.962\n",
      "Epoch  37 Batch   41/307   train_loss = 0.806\n",
      "Epoch  37 Batch  141/307   train_loss = 0.964\n",
      "Epoch  37 Batch  241/307   train_loss = 0.764\n",
      "Epoch  38 Batch   34/307   train_loss = 0.724\n",
      "Epoch  38 Batch  134/307   train_loss = 0.777\n",
      "Epoch  38 Batch  234/307   train_loss = 0.754\n",
      "Epoch  39 Batch   27/307   train_loss = 0.607\n",
      "Epoch  39 Batch  127/307   train_loss = 0.612\n",
      "Epoch  39 Batch  227/307   train_loss = 0.659\n",
      "Epoch  40 Batch   20/307   train_loss = 0.676\n",
      "Epoch  40 Batch  120/307   train_loss = 0.567\n",
      "Epoch  40 Batch  220/307   train_loss = 0.554\n",
      "Epoch  41 Batch   13/307   train_loss = 0.916\n",
      "Epoch  41 Batch  113/307   train_loss = 0.578\n",
      "Epoch  41 Batch  213/307   train_loss = 0.580\n",
      "Epoch  42 Batch    6/307   train_loss = 0.628\n",
      "Epoch  42 Batch  106/307   train_loss = 0.586\n",
      "Epoch  42 Batch  206/307   train_loss = 0.506\n",
      "Epoch  42 Batch  306/307   train_loss = 0.703\n",
      "Epoch  43 Batch   99/307   train_loss = 0.783\n",
      "Epoch  43 Batch  199/307   train_loss = 0.620\n",
      "Epoch  43 Batch  299/307   train_loss = 0.627\n",
      "Epoch  44 Batch   92/307   train_loss = 0.593\n",
      "Epoch  44 Batch  192/307   train_loss = 0.556\n",
      "Epoch  44 Batch  292/307   train_loss = 0.513\n",
      "Epoch  45 Batch   85/307   train_loss = 0.557\n",
      "Epoch  45 Batch  185/307   train_loss = 0.430\n",
      "Epoch  45 Batch  285/307   train_loss = 0.544\n",
      "Epoch  46 Batch   78/307   train_loss = 0.552\n",
      "Epoch  46 Batch  178/307   train_loss = 0.522\n",
      "Epoch  46 Batch  278/307   train_loss = 0.383\n",
      "Epoch  47 Batch   71/307   train_loss = 0.485\n",
      "Epoch  47 Batch  171/307   train_loss = 0.395\n",
      "Epoch  47 Batch  271/307   train_loss = 0.499\n",
      "Epoch  48 Batch   64/307   train_loss = 0.518\n",
      "Epoch  48 Batch  164/307   train_loss = 0.617\n",
      "Epoch  48 Batch  264/307   train_loss = 0.441\n",
      "Epoch  49 Batch   57/307   train_loss = 0.508\n",
      "Epoch  49 Batch  157/307   train_loss = 0.437\n",
      "Epoch  49 Batch  257/307   train_loss = 0.371\n",
      "Epoch  50 Batch   50/307   train_loss = 0.456\n",
      "Epoch  50 Batch  150/307   train_loss = 0.476\n",
      "Epoch  50 Batch  250/307   train_loss = 0.319\n",
      "Epoch  51 Batch   43/307   train_loss = 0.505\n",
      "Epoch  51 Batch  143/307   train_loss = 0.352\n",
      "Epoch  51 Batch  243/307   train_loss = 0.309\n",
      "Epoch  52 Batch   36/307   train_loss = 0.513\n",
      "Epoch  52 Batch  136/307   train_loss = 0.363\n",
      "Epoch  52 Batch  236/307   train_loss = 0.383\n",
      "Epoch  53 Batch   29/307   train_loss = 0.265\n",
      "Epoch  53 Batch  129/307   train_loss = 0.346\n",
      "Epoch  53 Batch  229/307   train_loss = 0.329\n",
      "Epoch  54 Batch   22/307   train_loss = 0.347\n",
      "Epoch  54 Batch  122/307   train_loss = 0.363\n",
      "Epoch  54 Batch  222/307   train_loss = 0.296\n",
      "Epoch  55 Batch   15/307   train_loss = 0.438\n",
      "Epoch  55 Batch  115/307   train_loss = 0.364\n",
      "Epoch  55 Batch  215/307   train_loss = 0.398\n",
      "Epoch  56 Batch    8/307   train_loss = 0.369\n",
      "Epoch  56 Batch  108/307   train_loss = 0.304\n",
      "Epoch  56 Batch  208/307   train_loss = 0.352\n",
      "Epoch  57 Batch    1/307   train_loss = 0.383\n",
      "Epoch  57 Batch  101/307   train_loss = 0.439\n",
      "Epoch  57 Batch  201/307   train_loss = 0.428\n",
      "Epoch  57 Batch  301/307   train_loss = 0.330\n",
      "Epoch  58 Batch   94/307   train_loss = 0.263\n",
      "Epoch  58 Batch  194/307   train_loss = 0.214\n",
      "Epoch  58 Batch  294/307   train_loss = 0.234\n",
      "Epoch  59 Batch   87/307   train_loss = 0.293\n",
      "Epoch  59 Batch  187/307   train_loss = 0.251\n",
      "Epoch  59 Batch  287/307   train_loss = 0.377\n",
      "Epoch  60 Batch   80/307   train_loss = 0.309\n",
      "Epoch  60 Batch  180/307   train_loss = 0.297\n",
      "Epoch  60 Batch  280/307   train_loss = 0.341\n",
      "Epoch  61 Batch   73/307   train_loss = 0.181\n",
      "Epoch  61 Batch  173/307   train_loss = 0.342\n",
      "Epoch  61 Batch  273/307   train_loss = 0.314\n",
      "Epoch  62 Batch   66/307   train_loss = 0.284\n",
      "Epoch  62 Batch  166/307   train_loss = 0.318\n",
      "Epoch  62 Batch  266/307   train_loss = 0.316\n",
      "Epoch  63 Batch   59/307   train_loss = 0.250\n",
      "Epoch  63 Batch  159/307   train_loss = 0.254\n",
      "Epoch  63 Batch  259/307   train_loss = 0.333\n",
      "Epoch  64 Batch   52/307   train_loss = 0.304\n",
      "Epoch  64 Batch  152/307   train_loss = 0.262\n",
      "Epoch  64 Batch  252/307   train_loss = 0.296\n",
      "Epoch  65 Batch   45/307   train_loss = 0.266\n",
      "Epoch  65 Batch  145/307   train_loss = 0.313\n",
      "Epoch  65 Batch  245/307   train_loss = 0.211\n",
      "Epoch  66 Batch   38/307   train_loss = 0.292\n",
      "Epoch  66 Batch  138/307   train_loss = 0.279\n",
      "Epoch  66 Batch  238/307   train_loss = 0.280\n",
      "Epoch  67 Batch   31/307   train_loss = 0.270\n",
      "Epoch  67 Batch  131/307   train_loss = 0.234\n",
      "Epoch  67 Batch  231/307   train_loss = 0.233\n",
      "Epoch  68 Batch   24/307   train_loss = 0.199\n",
      "Epoch  68 Batch  124/307   train_loss = 0.320\n",
      "Epoch  68 Batch  224/307   train_loss = 0.253\n",
      "Epoch  69 Batch   17/307   train_loss = 0.259\n",
      "Epoch  69 Batch  117/307   train_loss = 0.264\n",
      "Epoch  69 Batch  217/307   train_loss = 0.257\n",
      "Epoch  70 Batch   10/307   train_loss = 0.290\n",
      "Epoch  70 Batch  110/307   train_loss = 0.332\n",
      "Epoch  70 Batch  210/307   train_loss = 0.299\n",
      "Epoch  71 Batch    3/307   train_loss = 0.282\n",
      "Epoch  71 Batch  103/307   train_loss = 0.238\n",
      "Epoch  71 Batch  203/307   train_loss = 0.191\n",
      "Epoch  71 Batch  303/307   train_loss = 0.250\n",
      "Epoch  72 Batch   96/307   train_loss = 0.284\n",
      "Epoch  72 Batch  196/307   train_loss = 0.230\n",
      "Epoch  72 Batch  296/307   train_loss = 0.221\n",
      "Epoch  73 Batch   89/307   train_loss = 0.264\n",
      "Epoch  73 Batch  189/307   train_loss = 0.298\n",
      "Epoch  73 Batch  289/307   train_loss = 0.188\n",
      "Epoch  74 Batch   82/307   train_loss = 0.234\n",
      "Epoch  74 Batch  182/307   train_loss = 0.195\n",
      "Epoch  74 Batch  282/307   train_loss = 0.203\n",
      "Epoch  75 Batch   75/307   train_loss = 0.264\n",
      "Epoch  75 Batch  175/307   train_loss = 0.256\n",
      "Epoch  75 Batch  275/307   train_loss = 0.280\n",
      "Epoch  76 Batch   68/307   train_loss = 0.272\n",
      "Epoch  76 Batch  168/307   train_loss = 0.251\n",
      "Epoch  76 Batch  268/307   train_loss = 0.191\n",
      "Epoch  77 Batch   61/307   train_loss = 0.282\n",
      "Epoch  77 Batch  161/307   train_loss = 0.380\n",
      "Epoch  77 Batch  261/307   train_loss = 0.285\n",
      "Epoch  78 Batch   54/307   train_loss = 0.266\n",
      "Epoch  78 Batch  154/307   train_loss = 0.227\n",
      "Epoch  78 Batch  254/307   train_loss = 0.227\n",
      "Epoch  79 Batch   47/307   train_loss = 0.238\n",
      "Epoch  79 Batch  147/307   train_loss = 0.245\n",
      "Epoch  79 Batch  247/307   train_loss = 0.282\n",
      "Epoch  80 Batch   40/307   train_loss = 0.236\n",
      "Epoch  80 Batch  140/307   train_loss = 0.227\n",
      "Epoch  80 Batch  240/307   train_loss = 0.257\n",
      "Epoch  81 Batch   33/307   train_loss = 0.283\n",
      "Epoch  81 Batch  133/307   train_loss = 0.314\n",
      "Epoch  81 Batch  233/307   train_loss = 0.205\n",
      "Epoch  82 Batch   26/307   train_loss = 0.195\n",
      "Epoch  82 Batch  126/307   train_loss = 0.366\n",
      "Epoch  82 Batch  226/307   train_loss = 0.206\n",
      "Epoch  83 Batch   19/307   train_loss = 0.192\n",
      "Epoch  83 Batch  119/307   train_loss = 0.183\n",
      "Epoch  83 Batch  219/307   train_loss = 0.157\n",
      "Epoch  84 Batch   12/307   train_loss = 0.290\n",
      "Epoch  84 Batch  112/307   train_loss = 0.255\n",
      "Epoch  84 Batch  212/307   train_loss = 0.274\n",
      "Epoch  85 Batch    5/307   train_loss = 0.228\n",
      "Epoch  85 Batch  105/307   train_loss = 0.208\n",
      "Epoch  85 Batch  205/307   train_loss = 0.219\n",
      "Epoch  85 Batch  305/307   train_loss = 0.246\n",
      "Epoch  86 Batch   98/307   train_loss = 0.269\n",
      "Epoch  86 Batch  198/307   train_loss = 0.326\n",
      "Epoch  86 Batch  298/307   train_loss = 0.238\n",
      "Epoch  87 Batch   91/307   train_loss = 0.316\n",
      "Epoch  87 Batch  191/307   train_loss = 0.269\n",
      "Epoch  87 Batch  291/307   train_loss = 0.281\n",
      "Epoch  88 Batch   84/307   train_loss = 0.253\n",
      "Epoch  88 Batch  184/307   train_loss = 0.170\n",
      "Epoch  88 Batch  284/307   train_loss = 0.263\n",
      "Epoch  89 Batch   77/307   train_loss = 0.274\n",
      "Epoch  89 Batch  177/307   train_loss = 0.271\n",
      "Epoch  89 Batch  277/307   train_loss = 0.246\n",
      "Epoch  90 Batch   70/307   train_loss = 0.205\n",
      "Epoch  90 Batch  170/307   train_loss = 0.234\n",
      "Epoch  90 Batch  270/307   train_loss = 0.291\n",
      "Epoch  91 Batch   63/307   train_loss = 0.238\n",
      "Epoch  91 Batch  163/307   train_loss = 0.228\n",
      "Epoch  91 Batch  263/307   train_loss = 0.245\n",
      "Epoch  92 Batch   56/307   train_loss = 0.215\n",
      "Epoch  92 Batch  156/307   train_loss = 0.178\n",
      "Epoch  92 Batch  256/307   train_loss = 0.319\n",
      "Epoch  93 Batch   49/307   train_loss = 0.324\n",
      "Epoch  93 Batch  149/307   train_loss = 0.205\n",
      "Epoch  93 Batch  249/307   train_loss = 0.292\n",
      "Epoch  94 Batch   42/307   train_loss = 0.247\n",
      "Epoch  94 Batch  142/307   train_loss = 0.226\n",
      "Epoch  94 Batch  242/307   train_loss = 0.270\n",
      "Epoch  95 Batch   35/307   train_loss = 0.230\n",
      "Epoch  95 Batch  135/307   train_loss = 0.288\n",
      "Epoch  95 Batch  235/307   train_loss = 0.296\n",
      "Epoch  96 Batch   28/307   train_loss = 0.293\n",
      "Epoch  96 Batch  128/307   train_loss = 0.283\n",
      "Epoch  96 Batch  228/307   train_loss = 0.336\n",
      "Epoch  97 Batch   21/307   train_loss = 0.312\n",
      "Epoch  97 Batch  121/307   train_loss = 0.252\n",
      "Epoch  97 Batch  221/307   train_loss = 0.184\n",
      "Epoch  98 Batch   14/307   train_loss = 0.289\n",
      "Epoch  98 Batch  114/307   train_loss = 0.268\n",
      "Epoch  98 Batch  214/307   train_loss = 0.282\n",
      "Epoch  99 Batch    7/307   train_loss = 0.239\n",
      "Epoch  99 Batch  107/307   train_loss = 0.252\n",
      "Epoch  99 Batch  207/307   train_loss = 0.310\n",
      "Model Trained and Saved\n"
     ]
    }
   ],
   "source": [
    "\"\"\"\n",
    "DON'T MODIFY ANYTHING IN THIS CELL\n",
    "\"\"\"\n",
    "batches = get_batches(int_text, batch_size, seq_length)\n",
    "\n",
    "with tf.Session(graph=train_graph) as sess:\n",
    "    sess.run(tf.global_variables_initializer())\n",
    "\n",
    "    for epoch_i in range(num_epochs):\n",
    "        state = sess.run(initial_state, {input_text: batches[0][0]})\n",
    "\n",
    "        for batch_i, (x, y) in enumerate(batches):\n",
    "            feed = {\n",
    "                input_text: x,\n",
    "                targets: y,\n",
    "                initial_state: state,\n",
    "                lr: learning_rate}\n",
    "            train_loss, state, _ = sess.run([cost, final_state, train_op], feed)\n",
    "\n",
    "            # Show every <show_every_n_batches> batches\n",
    "            if (epoch_i * len(batches) + batch_i) % show_every_n_batches == 0:\n",
    "                print('Epoch {:>3} Batch {:>4}/{}   train_loss = {:.3f}'.format(\n",
    "                    epoch_i,\n",
    "                    batch_i,\n",
    "                    len(batches),\n",
    "                    train_loss))\n",
    "\n",
    "    # Save Model \n",
    "    saver = tf.train.Saver()\n",
    "    saver.save(sess, save_dir)\n",
    "    print('Model Trained and Saved')"
   ]
  },
  {
   "cell_type": "markdown",
   "metadata": {
    "deletable": true,
    "editable": true
   },
   "source": [
    "## Save Parameters\n",
    "Save `seq_length` and `save_dir` for generating a new TV script."
   ]
  },
  {
   "cell_type": "code",
   "execution_count": 17,
   "metadata": {
    "collapsed": false,
    "deletable": true,
    "editable": true
   },
   "outputs": [],
   "source": [
    "\"\"\"\n",
    "DON'T MODIFY ANYTHING IN THIS CELL\n",
    "\"\"\"\n",
    "# Save parameters for checkpoint\n",
    "helper.save_params((seq_length, save_dir))"
   ]
  },
  {
   "cell_type": "markdown",
   "metadata": {
    "deletable": true,
    "editable": true
   },
   "source": [
    "# Checkpoint"
   ]
  },
  {
   "cell_type": "code",
   "execution_count": 18,
   "metadata": {
    "collapsed": false,
    "deletable": true,
    "editable": true
   },
   "outputs": [],
   "source": [
    "\"\"\"\n",
    "DON'T MODIFY ANYTHING IN THIS CELL\n",
    "\"\"\"\n",
    "import tensorflow as tf\n",
    "import numpy as np\n",
    "import helper\n",
    "import problem_unittests as tests\n",
    "\n",
    "_, vocab_to_int, int_to_vocab, token_dict = helper.load_preprocess()\n",
    "seq_length, load_dir = helper.load_params()"
   ]
  },
  {
   "cell_type": "markdown",
   "metadata": {
    "deletable": true,
    "editable": true
   },
   "source": [
    "## Implement Generate Functions\n",
    "### Get Tensors\n",
    "Get tensors from `loaded_graph` using the function [`get_tensor_by_name()`](https://www.tensorflow.org/api_docs/python/tf/Graph#get_tensor_by_name).  Get the tensors using the following names:\n",
    "- \"input:0\"\n",
    "- \"initial_state:0\"\n",
    "- \"final_state:0\"\n",
    "- \"probs:0\"\n",
    "\n",
    "Return the tensors in the following tuple `(InputTensor, InitialStateTensor, FinalStateTensor, ProbsTensor)` "
   ]
  },
  {
   "cell_type": "code",
   "execution_count": 19,
   "metadata": {
    "collapsed": false,
    "deletable": true,
    "editable": true
   },
   "outputs": [
    {
     "name": "stdout",
     "output_type": "stream",
     "text": [
      "Tests Passed\n"
     ]
    }
   ],
   "source": [
    "def get_tensors(loaded_graph):\n",
    "    \"\"\"\n",
    "    Get input, initial state, final state, and probabilities tensor from <loaded_graph>\n",
    "    :param loaded_graph: TensorFlow graph loaded from file\n",
    "    :return: Tuple (InputTensor, InitialStateTensor, FinalStateTensor, ProbsTensor)\n",
    "    \"\"\"\n",
    "    # TODO: Implement Function\n",
    "    input_tensor = loaded_graph.get_tensor_by_name('input:0')\n",
    "    initial_state = loaded_graph.get_tensor_by_name('initial_state:0')\n",
    "    final_state = loaded_graph.get_tensor_by_name('final_state:0')\n",
    "    probs = loaded_graph.get_tensor_by_name('probs:0')\n",
    "    return (input_tensor, initial_state, final_state, probs)\n",
    "\n",
    "\n",
    "\"\"\"\n",
    "DON'T MODIFY ANYTHING IN THIS CELL THAT IS BELOW THIS LINE\n",
    "\"\"\"\n",
    "tests.test_get_tensors(get_tensors)"
   ]
  },
  {
   "cell_type": "markdown",
   "metadata": {
    "deletable": true,
    "editable": true
   },
   "source": [
    "### Choose Word\n",
    "Implement the `pick_word()` function to select the next word using `probabilities`."
   ]
  },
  {
   "cell_type": "code",
   "execution_count": 20,
   "metadata": {
    "collapsed": false,
    "deletable": true,
    "editable": true
   },
   "outputs": [
    {
     "name": "stdout",
     "output_type": "stream",
     "text": [
      "Tests Passed\n"
     ]
    }
   ],
   "source": [
    "def pick_word(probabilities, int_to_vocab):\n",
    "    \"\"\"\n",
    "    Pick the next word in the generated text\n",
    "    :param probabilities: Probabilites of the next word\n",
    "    :param int_to_vocab: Dictionary of word ids as the keys and words as the values\n",
    "    :return: String of the predicted word\n",
    "    \"\"\"\n",
    "    # TODO: Implement Function\n",
    "    return int_to_vocab[np.argmax(probabilities)]\n",
    "\n",
    "\n",
    "\"\"\"\n",
    "DON'T MODIFY ANYTHING IN THIS CELL THAT IS BELOW THIS LINE\n",
    "\"\"\"\n",
    "tests.test_pick_word(pick_word)"
   ]
  },
  {
   "cell_type": "markdown",
   "metadata": {
    "deletable": true,
    "editable": true
   },
   "source": [
    "## Generate TV Script\n",
    "This will generate the TV script for you.  Set `gen_length` to the length of TV script you want to generate."
   ]
  },
  {
   "cell_type": "code",
   "execution_count": 21,
   "metadata": {
    "collapsed": false,
    "deletable": true,
    "editable": true
   },
   "outputs": [
    {
     "name": "stdout",
     "output_type": "stream",
     "text": [
      "moe_szyslak:(sad) i've been stood up.\n",
      "maya: moe, i'm down here.\n",
      "moe_szyslak: oh my god.(looks at glen) just to the boy guy? i guess we should come home. and i do it!\n",
      "moe_szyslak: hey, come on, i've been using it backward for five children. oh, that's gimme your game off.\n",
      "moe_szyslak: i was so self-centered. and say, i'm gonna have a money.\n",
      "homer_simpson: oh, thank you go, bart?\n",
      "moe_szyslak: ah, homer. what happened? i moe_szyslak: you ain't fendin' down in this bar.\n",
      "marge_simpson:(into phone) i can't wait to go back to the past and let me in my bar!\n",
      "moe_szyslak: i wouldn't tell marge this new duff, who is all. but i have to buy a beer?\n",
      "carl_carlson:(sarcastic) and i'm back.\n",
      "moe_szyslak: marge, it's one of the rob(respect)\n",
      "homer_simpson:(to lisa) no, no. this is all that... a...\n"
     ]
    }
   ],
   "source": [
    "gen_length = 200\n",
    "# homer_simpson, moe_szyslak, or Barney_Gumble\n",
    "prime_word = 'moe_szyslak'\n",
    "\n",
    "\"\"\"\n",
    "DON'T MODIFY ANYTHING IN THIS CELL THAT IS BELOW THIS LINE\n",
    "\"\"\"\n",
    "loaded_graph = tf.Graph()\n",
    "with tf.Session(graph=loaded_graph) as sess:\n",
    "    # Load saved model\n",
    "    loader = tf.train.import_meta_graph(load_dir + '.meta')\n",
    "    loader.restore(sess, load_dir)\n",
    "\n",
    "    # Get Tensors from loaded model\n",
    "    input_text, initial_state, final_state, probs = get_tensors(loaded_graph)\n",
    "\n",
    "    # Sentences generation setup\n",
    "    gen_sentences = [prime_word + ':']\n",
    "    prev_state = sess.run(initial_state, {input_text: np.array([[1]])})\n",
    "\n",
    "    # Generate sentences\n",
    "    for n in range(gen_length):\n",
    "        # Dynamic Input\n",
    "        dyn_input = [[vocab_to_int[word] for word in gen_sentences[-seq_length:]]]\n",
    "        dyn_seq_length = len(dyn_input[0])\n",
    "\n",
    "        # Get Prediction\n",
    "        probabilities, prev_state = sess.run(\n",
    "            [probs, final_state],\n",
    "            {input_text: dyn_input, initial_state: prev_state})\n",
    "        \n",
    "        pred_word = pick_word(probabilities[dyn_seq_length-1], int_to_vocab)\n",
    "\n",
    "        gen_sentences.append(pred_word)\n",
    "    \n",
    "    # Remove tokens\n",
    "    tv_script = ' '.join(gen_sentences)\n",
    "    for key, token in token_dict.items():\n",
    "        ending = ' ' if key in ['\\n', '(', '\"'] else ''\n",
    "        tv_script = tv_script.replace(' ' + token.lower(), key)\n",
    "    tv_script = tv_script.replace('\\n ', '\\n')\n",
    "    tv_script = tv_script.replace('( ', '(')\n",
    "        \n",
    "    print(tv_script)"
   ]
  },
  {
   "cell_type": "markdown",
   "metadata": {
    "deletable": true,
    "editable": true
   },
   "source": [
    "# The TV Script is Nonsensical\n",
    "It's ok if the TV script doesn't make any sense.  We trained on less than a megabyte of text.  In order to get good results, you'll have to use a smaller vocabulary or get more data.  Luckly there's more data!  As we mentioned in the begging of this project, this is a subset of [another dataset](https://www.kaggle.com/wcukierski/the-simpsons-by-the-data).  We didn't have you train on all the data, because that would take too long.  However, you are free to train your neural network on all the data.  After you complete the project, of course.\n",
    "# Submitting This Project\n",
    "When submitting this project, make sure to run all the cells before saving the notebook. Save the notebook file as \"dlnd_tv_script_generation.ipynb\" and save it as a HTML file under \"File\" -> \"Download as\". Include the \"helper.py\" and \"problem_unittests.py\" files in your submission."
   ]
  },
  {
   "cell_type": "code",
   "execution_count": null,
   "metadata": {
    "collapsed": true,
    "deletable": true,
    "editable": true
   },
   "outputs": [],
   "source": []
  },
  {
   "cell_type": "code",
   "execution_count": null,
   "metadata": {
    "collapsed": true,
    "deletable": true,
    "editable": true
   },
   "outputs": [],
   "source": []
  }
 ],
 "metadata": {
  "kernelspec": {
   "display_name": "Python 3",
   "language": "python",
   "name": "python3"
  },
  "language_info": {
   "codemirror_mode": {
    "name": "ipython",
    "version": 3
   },
   "file_extension": ".py",
   "mimetype": "text/x-python",
   "name": "python",
   "nbconvert_exporter": "python",
   "pygments_lexer": "ipython3",
   "version": "3.6.0"
  },
  "widgets": {
   "state": {},
   "version": "1.1.2"
  }
 },
 "nbformat": 4,
 "nbformat_minor": 0
}
